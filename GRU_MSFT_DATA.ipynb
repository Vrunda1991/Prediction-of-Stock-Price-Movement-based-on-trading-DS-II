{
 "cells": [
  {
   "cell_type": "code",
   "execution_count": 1,
   "metadata": {},
   "outputs": [],
   "source": [
    "import warnings\n",
    "import numpy as np\n",
    "import matplotlib.pyplot as plt\n",
    "import seaborn as sns\n",
    "import pandas as pd"
   ]
  },
  {
   "cell_type": "code",
   "execution_count": 2,
   "metadata": {},
   "outputs": [],
   "source": [
    "import math"
   ]
  },
  {
   "cell_type": "code",
   "execution_count": 3,
   "metadata": {},
   "outputs": [
    {
     "data": {
      "text/html": [
       "<div>\n",
       "<style scoped>\n",
       "    .dataframe tbody tr th:only-of-type {\n",
       "        vertical-align: middle;\n",
       "    }\n",
       "\n",
       "    .dataframe tbody tr th {\n",
       "        vertical-align: top;\n",
       "    }\n",
       "\n",
       "    .dataframe thead th {\n",
       "        text-align: right;\n",
       "    }\n",
       "</style>\n",
       "<table border=\"1\" class=\"dataframe\">\n",
       "  <thead>\n",
       "    <tr style=\"text-align: right;\">\n",
       "      <th></th>\n",
       "      <th>Open</th>\n",
       "      <th>High</th>\n",
       "      <th>Low</th>\n",
       "      <th>Close</th>\n",
       "      <th>Adj Close</th>\n",
       "      <th>Volume</th>\n",
       "    </tr>\n",
       "    <tr>\n",
       "      <th>Date</th>\n",
       "      <th></th>\n",
       "      <th></th>\n",
       "      <th></th>\n",
       "      <th></th>\n",
       "      <th></th>\n",
       "      <th></th>\n",
       "    </tr>\n",
       "  </thead>\n",
       "  <tbody>\n",
       "    <tr>\n",
       "      <th>1986-03-13</th>\n",
       "      <td>0.088542</td>\n",
       "      <td>0.101563</td>\n",
       "      <td>0.088542</td>\n",
       "      <td>0.097222</td>\n",
       "      <td>0.061751</td>\n",
       "      <td>1031788800</td>\n",
       "    </tr>\n",
       "    <tr>\n",
       "      <th>1986-03-14</th>\n",
       "      <td>0.097222</td>\n",
       "      <td>0.102431</td>\n",
       "      <td>0.097222</td>\n",
       "      <td>0.100694</td>\n",
       "      <td>0.063956</td>\n",
       "      <td>308160000</td>\n",
       "    </tr>\n",
       "    <tr>\n",
       "      <th>1986-03-17</th>\n",
       "      <td>0.100694</td>\n",
       "      <td>0.103299</td>\n",
       "      <td>0.100694</td>\n",
       "      <td>0.102431</td>\n",
       "      <td>0.065059</td>\n",
       "      <td>133171200</td>\n",
       "    </tr>\n",
       "    <tr>\n",
       "      <th>1986-03-18</th>\n",
       "      <td>0.102431</td>\n",
       "      <td>0.103299</td>\n",
       "      <td>0.098958</td>\n",
       "      <td>0.099826</td>\n",
       "      <td>0.063405</td>\n",
       "      <td>67766400</td>\n",
       "    </tr>\n",
       "    <tr>\n",
       "      <th>1986-03-19</th>\n",
       "      <td>0.099826</td>\n",
       "      <td>0.100694</td>\n",
       "      <td>0.097222</td>\n",
       "      <td>0.098090</td>\n",
       "      <td>0.062302</td>\n",
       "      <td>47894400</td>\n",
       "    </tr>\n",
       "  </tbody>\n",
       "</table>\n",
       "</div>"
      ],
      "text/plain": [
       "                Open      High       Low     Close  Adj Close      Volume\n",
       "Date                                                                     \n",
       "1986-03-13  0.088542  0.101563  0.088542  0.097222   0.061751  1031788800\n",
       "1986-03-14  0.097222  0.102431  0.097222  0.100694   0.063956   308160000\n",
       "1986-03-17  0.100694  0.103299  0.100694  0.102431   0.065059   133171200\n",
       "1986-03-18  0.102431  0.103299  0.098958  0.099826   0.063405    67766400\n",
       "1986-03-19  0.099826  0.100694  0.097222  0.098090   0.062302    47894400"
      ]
     },
     "execution_count": 3,
     "metadata": {},
     "output_type": "execute_result"
    }
   ],
   "source": [
    "dataset = pd.read_csv(\"./datasets/MSFT.csv\", index_col='Date', parse_dates=['Date'])\n",
    "dataset.head()"
   ]
  },
  {
   "cell_type": "code",
   "execution_count": 4,
   "metadata": {},
   "outputs": [],
   "source": [
    "training_set = dataset['2021-01-01':'2021-03-12'].iloc[:,4:5].values"
   ]
  },
  {
   "cell_type": "code",
   "execution_count": 5,
   "metadata": {},
   "outputs": [
    {
     "data": {
      "text/plain": [
       "array([[217.18977356],\n",
       "       [217.39929199],\n",
       "       [211.76226807],\n",
       "       [217.78839111],\n",
       "       [219.11534119],\n",
       "       [216.99023438],\n",
       "       [214.43611145],\n",
       "       [215.84288025],\n",
       "       [212.53051758],\n",
       "       [212.16134644],\n",
       "       [215.94264221],\n",
       "       [223.82449341],\n",
       "       [224.45304871],\n",
       "       [225.43078613],\n",
       "       [229.00256348],\n",
       "       [231.79614258],\n",
       "       [232.36482239],\n",
       "       [238.38096619],\n",
       "       [231.42698669],\n",
       "       [239.0993042 ],\n",
       "       [238.95962524],\n",
       "       [242.44161987],\n",
       "       [241.45388794],\n",
       "       [241.64344788],\n",
       "       [241.9128418 ],\n",
       "       [243.20985413],\n",
       "       [242.26203918],\n",
       "       [243.92819214],\n",
       "       [244.42704773],\n",
       "       [243.13999939],\n",
       "       [244.19999695],\n",
       "       [243.78999329],\n",
       "       [240.97000122],\n",
       "       [234.50999451],\n",
       "       [233.27000427],\n",
       "       [234.55000305],\n",
       "       [228.99000549],\n",
       "       [232.38000488],\n",
       "       [236.94000244],\n",
       "       [233.86999512],\n",
       "       [227.55999756],\n",
       "       [226.72999573],\n",
       "       [231.6000061 ],\n",
       "       [227.38999939],\n",
       "       [233.77999878],\n",
       "       [232.41999817],\n",
       "       [237.13000488],\n",
       "       [235.75      ]])"
      ]
     },
     "execution_count": 5,
     "metadata": {},
     "output_type": "execute_result"
    }
   ],
   "source": [
    "training_set"
   ]
  },
  {
   "cell_type": "code",
   "execution_count": 6,
   "metadata": {},
   "outputs": [
    {
     "data": {
      "text/plain": [
       "array([[234.80999756],\n",
       "       [237.71000671],\n",
       "       [237.03999329],\n",
       "       [230.72000122],\n",
       "       [230.3500061 ],\n",
       "       [235.99000549],\n",
       "       [237.58000183],\n",
       "       [235.46000671],\n",
       "       [232.33999634],\n",
       "       [236.47999573],\n",
       "       [235.24000549],\n",
       "       [231.8500061 ],\n",
       "       [235.77000427],\n",
       "       [242.3500061 ],\n",
       "       [249.07000732],\n",
       "       [247.86000061],\n",
       "       [249.8999939 ],\n",
       "       [253.25      ],\n",
       "       [255.8500061 ],\n",
       "       [255.91000366],\n",
       "       [258.48999023],\n",
       "       [255.58999634],\n",
       "       [259.5       ],\n",
       "       [260.73999023],\n",
       "       [258.73999023],\n",
       "       [258.26000977],\n",
       "       [260.57998657],\n",
       "       [257.17001343],\n",
       "       [261.1499939 ],\n",
       "       [261.54998779],\n",
       "       [261.97000122],\n",
       "       [254.55999756],\n",
       "       [252.50999451],\n",
       "       [252.17999268],\n",
       "       [251.86000061]])"
      ]
     },
     "execution_count": 6,
     "metadata": {},
     "output_type": "execute_result"
    }
   ],
   "source": [
    "test_set = dataset['2021-03-15':].iloc[:,4:5].values\n",
    "test_set"
   ]
  },
  {
   "cell_type": "code",
   "execution_count": 7,
   "metadata": {},
   "outputs": [
    {
     "data": {
      "image/png": "[encoded data removed]",
      "text/plain": [
       "<Figure size 1152x288 with 1 Axes>"
      ]
     },
     "metadata": {
      "needs_background": "light"
     },
     "output_type": "display_data"
    }
   ],
   "source": [
    "dataset[\"Close\"]['2021-01-01':'2021-03-12'].plot(figsize=(25,10),legend=True)\n",
    "dataset[\"Close\"]['2021-03-15':].plot(figsize=(16,4),legend=True)\n",
    "plt.legend(['Training set','Test set'])\n",
    "plt.title(\"NIFTY\"+' stock price')\n",
    "plt.show()"
   ]
  },
  {
   "cell_type": "markdown",
   "metadata": {},
   "source": [
    "### MinMax Scaling"
   ]
  },
  {
   "cell_type": "code",
   "execution_count": 8,
   "metadata": {},
   "outputs": [],
   "source": [
    "from sklearn.preprocessing import MinMaxScaler"
   ]
  },
  {
   "cell_type": "code",
   "execution_count": 9,
   "metadata": {},
   "outputs": [],
   "source": [
    "sc = MinMaxScaler(feature_range=(0,1))\n",
    "training_set_scaled = sc.fit_transform(training_set)"
   ]
  },
  {
   "cell_type": "code",
   "execution_count": 10,
   "metadata": {},
   "outputs": [],
   "source": [
    "# we create a data structure with 60 timesteps and 1 output\n",
    "# So for each element of training set, we have 60 previous training set elements \n",
    "X_train = []\n",
    "y_train = []\n",
    "\n",
    "previous = 30\n",
    "\n",
    "for i in range(previous,len(training_set_scaled)):\n",
    "    X_train.append(training_set_scaled[i-previous:i,0])\n",
    "    y_train.append(training_set_scaled[i,0])\n",
    "X_train, y_train = np.array(X_train), np.array(y_train)"
   ]
  },
  {
   "cell_type": "code",
   "execution_count": 11,
   "metadata": {},
   "outputs": [
    {
     "data": {
      "text/plain": [
       "(18, 30, 1)"
      ]
     },
     "execution_count": 11,
     "metadata": {},
     "output_type": "execute_result"
    }
   ],
   "source": [
    "# Reshaping X_train for efficient modelling\n",
    "X_train = np.reshape(X_train, (X_train.shape[0],X_train.shape[1],1))\n",
    "X_train.shape"
   ]
  },
  {
   "cell_type": "markdown",
   "metadata": {},
   "source": [
    "### The GRU Architecture"
   ]
  },
  {
   "cell_type": "code",
   "execution_count": 12,
   "metadata": {},
   "outputs": [],
   "source": [
    "from keras.models import Sequential\n",
    "from keras.layers import GRU\n",
    "#Dense, LSTM, Dropout, Bidirectional"
   ]
  },
  {
   "cell_type": "code",
   "execution_count": 13,
   "metadata": {},
   "outputs": [],
   "source": [
    "from keras.layers import Dropout\n",
    "from keras.layers import Dense"
   ]
  },
  {
   "cell_type": "code",
   "execution_count": 14,
   "metadata": {},
   "outputs": [
    {
     "name": "stdout",
     "output_type": "stream",
     "text": [
      "Epoch 1/100\n",
      "1/1 [==============================] - 6s 6s/step - loss: 0.4536\n",
      "Epoch 2/100\n",
      "1/1 [==============================] - 0s 50ms/step - loss: 0.3408\n",
      "Epoch 3/100\n",
      "1/1 [==============================] - 0s 40ms/step - loss: 0.2164\n",
      "Epoch 4/100\n",
      "1/1 [==============================] - 0s 40ms/step - loss: 0.1203\n",
      "Epoch 5/100\n",
      "1/1 [==============================] - 0s 50ms/step - loss: 0.0564\n",
      "Epoch 6/100\n",
      "1/1 [==============================] - 0s 50ms/step - loss: 0.0337\n",
      "Epoch 7/100\n",
      "1/1 [==============================] - 0s 60ms/step - loss: 0.0402\n",
      "Epoch 8/100\n",
      "1/1 [==============================] - 0s 60ms/step - loss: 0.1148\n",
      "Epoch 9/100\n",
      "1/1 [==============================] - 0s 60ms/step - loss: 0.0934\n",
      "Epoch 10/100\n",
      "1/1 [==============================] - 0s 50ms/step - loss: 0.0782\n",
      "Epoch 11/100\n",
      "1/1 [==============================] - 0s 50ms/step - loss: 0.0431\n",
      "Epoch 12/100\n",
      "1/1 [==============================] - 0s 50ms/step - loss: 0.0315\n",
      "Epoch 13/100\n",
      "1/1 [==============================] - 0s 70ms/step - loss: 0.0181\n",
      "Epoch 14/100\n",
      "1/1 [==============================] - 0s 50ms/step - loss: 0.0367\n",
      "Epoch 15/100\n",
      "1/1 [==============================] - 0s 60ms/step - loss: 0.0380\n",
      "Epoch 16/100\n",
      "1/1 [==============================] - 0s 40ms/step - loss: 0.0366\n",
      "Epoch 17/100\n",
      "1/1 [==============================] - 0s 50ms/step - loss: 0.0407\n",
      "Epoch 18/100\n",
      "1/1 [==============================] - 0s 60ms/step - loss: 0.0414\n",
      "Epoch 19/100\n",
      "1/1 [==============================] - 0s 50ms/step - loss: 0.0298\n",
      "Epoch 20/100\n",
      "1/1 [==============================] - 0s 60ms/step - loss: 0.0461\n",
      "Epoch 21/100\n",
      "1/1 [==============================] - 0s 50ms/step - loss: 0.0352\n",
      "Epoch 22/100\n",
      "1/1 [==============================] - 0s 70ms/step - loss: 0.0285\n",
      "Epoch 23/100\n",
      "1/1 [==============================] - 0s 50ms/step - loss: 0.0255\n",
      "Epoch 24/100\n",
      "1/1 [==============================] - 0s 50ms/step - loss: 0.0265\n",
      "Epoch 25/100\n",
      "1/1 [==============================] - 0s 50ms/step - loss: 0.0252\n",
      "Epoch 26/100\n",
      "1/1 [==============================] - 0s 60ms/step - loss: 0.0249\n",
      "Epoch 27/100\n",
      "1/1 [==============================] - 0s 60ms/step - loss: 0.0330\n",
      "Epoch 28/100\n",
      "1/1 [==============================] - 0s 50ms/step - loss: 0.0356\n",
      "Epoch 29/100\n",
      "1/1 [==============================] - 0s 50ms/step - loss: 0.0323\n",
      "Epoch 30/100\n",
      "1/1 [==============================] - 0s 60ms/step - loss: 0.0198\n",
      "Epoch 31/100\n",
      "1/1 [==============================] - 0s 60ms/step - loss: 0.0237\n",
      "Epoch 32/100\n",
      "1/1 [==============================] - 0s 60ms/step - loss: 0.0162\n",
      "Epoch 33/100\n",
      "1/1 [==============================] - 0s 50ms/step - loss: 0.0333\n",
      "Epoch 34/100\n",
      "1/1 [==============================] - 0s 50ms/step - loss: 0.0189\n",
      "Epoch 35/100\n",
      "1/1 [==============================] - 0s 60ms/step - loss: 0.0323\n",
      "Epoch 36/100\n",
      "1/1 [==============================] - 0s 70ms/step - loss: 0.0331\n",
      "Epoch 37/100\n",
      "1/1 [==============================] - 0s 50ms/step - loss: 0.0377\n",
      "Epoch 38/100\n",
      "1/1 [==============================] - 0s 60ms/step - loss: 0.0290\n",
      "Epoch 39/100\n",
      "1/1 [==============================] - 0s 50ms/step - loss: 0.0274\n",
      "Epoch 40/100\n",
      "1/1 [==============================] - 0s 50ms/step - loss: 0.0257\n",
      "Epoch 41/100\n",
      "1/1 [==============================] - 0s 60ms/step - loss: 0.0280\n",
      "Epoch 42/100\n",
      "1/1 [==============================] - 0s 60ms/step - loss: 0.0262\n",
      "Epoch 43/100\n",
      "1/1 [==============================] - 0s 50ms/step - loss: 0.0132\n",
      "Epoch 44/100\n",
      "1/1 [==============================] - 0s 50ms/step - loss: 0.0256\n",
      "Epoch 45/100\n",
      "1/1 [==============================] - 0s 50ms/step - loss: 0.0298\n",
      "Epoch 46/100\n",
      "1/1 [==============================] - 0s 50ms/step - loss: 0.0199\n",
      "Epoch 47/100\n",
      "1/1 [==============================] - 0s 60ms/step - loss: 0.0244\n",
      "Epoch 48/100\n",
      "1/1 [==============================] - 0s 60ms/step - loss: 0.0311\n",
      "Epoch 49/100\n",
      "1/1 [==============================] - 0s 50ms/step - loss: 0.0227\n",
      "Epoch 50/100\n",
      "1/1 [==============================] - 0s 70ms/step - loss: 0.0281\n",
      "Epoch 51/100\n",
      "1/1 [==============================] - 0s 50ms/step - loss: 0.0280\n",
      "Epoch 52/100\n",
      "1/1 [==============================] - 0s 60ms/step - loss: 0.0278\n",
      "Epoch 53/100\n",
      "1/1 [==============================] - 0s 60ms/step - loss: 0.0273\n",
      "Epoch 54/100\n",
      "1/1 [==============================] - 0s 60ms/step - loss: 0.0147\n",
      "Epoch 55/100\n",
      "1/1 [==============================] - 0s 40ms/step - loss: 0.0182\n",
      "Epoch 56/100\n",
      "1/1 [==============================] - 0s 40ms/step - loss: 0.0381\n",
      "Epoch 57/100\n",
      "1/1 [==============================] - 0s 40ms/step - loss: 0.0199\n",
      "Epoch 58/100\n",
      "1/1 [==============================] - 0s 40ms/step - loss: 0.0227\n",
      "Epoch 59/100\n",
      "1/1 [==============================] - 0s 40ms/step - loss: 0.0193\n",
      "Epoch 60/100\n",
      "1/1 [==============================] - 0s 50ms/step - loss: 0.0203\n",
      "Epoch 61/100\n",
      "1/1 [==============================] - 0s 40ms/step - loss: 0.0213\n",
      "Epoch 62/100\n",
      "1/1 [==============================] - 0s 40ms/step - loss: 0.0176\n",
      "Epoch 63/100\n",
      "1/1 [==============================] - 0s 50ms/step - loss: 0.0276\n",
      "Epoch 64/100\n",
      "1/1 [==============================] - 0s 40ms/step - loss: 0.0216\n",
      "Epoch 65/100\n",
      "1/1 [==============================] - 0s 40ms/step - loss: 0.0229\n",
      "Epoch 66/100\n",
      "1/1 [==============================] - 0s 50ms/step - loss: 0.0208\n",
      "Epoch 67/100\n",
      "1/1 [==============================] - 0s 40ms/step - loss: 0.0245\n",
      "Epoch 68/100\n",
      "1/1 [==============================] - 0s 50ms/step - loss: 0.0237\n",
      "Epoch 69/100\n",
      "1/1 [==============================] - 0s 50ms/step - loss: 0.0182\n",
      "Epoch 70/100\n",
      "1/1 [==============================] - 0s 40ms/step - loss: 0.0283\n",
      "Epoch 71/100\n",
      "1/1 [==============================] - 0s 40ms/step - loss: 0.0285\n",
      "Epoch 72/100\n",
      "1/1 [==============================] - 0s 40ms/step - loss: 0.0198\n",
      "Epoch 73/100\n",
      "1/1 [==============================] - 0s 40ms/step - loss: 0.0221\n",
      "Epoch 74/100\n",
      "1/1 [==============================] - 0s 50ms/step - loss: 0.0216\n",
      "Epoch 75/100\n",
      "1/1 [==============================] - 0s 40ms/step - loss: 0.0154\n",
      "Epoch 76/100\n",
      "1/1 [==============================] - 0s 40ms/step - loss: 0.0181\n",
      "Epoch 77/100\n",
      "1/1 [==============================] - 0s 50ms/step - loss: 0.0256\n",
      "Epoch 78/100\n",
      "1/1 [==============================] - 0s 40ms/step - loss: 0.0237\n",
      "Epoch 79/100\n",
      "1/1 [==============================] - 0s 50ms/step - loss: 0.0241\n",
      "Epoch 80/100\n",
      "1/1 [==============================] - 0s 40ms/step - loss: 0.0196\n",
      "Epoch 81/100\n",
      "1/1 [==============================] - 0s 40ms/step - loss: 0.0199\n",
      "Epoch 82/100\n",
      "1/1 [==============================] - 0s 50ms/step - loss: 0.0297\n",
      "Epoch 83/100\n",
      "1/1 [==============================] - 0s 40ms/step - loss: 0.0236\n",
      "Epoch 84/100\n",
      "1/1 [==============================] - 0s 40ms/step - loss: 0.0190\n",
      "Epoch 85/100\n",
      "1/1 [==============================] - 0s 40ms/step - loss: 0.0260\n",
      "Epoch 86/100\n",
      "1/1 [==============================] - 0s 40ms/step - loss: 0.0292\n",
      "Epoch 87/100\n",
      "1/1 [==============================] - 0s 40ms/step - loss: 0.0257\n",
      "Epoch 88/100\n",
      "1/1 [==============================] - 0s 40ms/step - loss: 0.0205\n",
      "Epoch 89/100\n",
      "1/1 [==============================] - 0s 50ms/step - loss: 0.0250\n",
      "Epoch 90/100\n",
      "1/1 [==============================] - 0s 40ms/step - loss: 0.0202\n",
      "Epoch 91/100\n",
      "1/1 [==============================] - 0s 40ms/step - loss: 0.0196\n",
      "Epoch 92/100\n",
      "1/1 [==============================] - 0s 50ms/step - loss: 0.0206\n",
      "Epoch 93/100\n",
      "1/1 [==============================] - 0s 40ms/step - loss: 0.0124\n",
      "Epoch 94/100\n",
      "1/1 [==============================] - 0s 50ms/step - loss: 0.0270\n",
      "Epoch 95/100\n",
      "1/1 [==============================] - 0s 50ms/step - loss: 0.0256\n",
      "Epoch 96/100\n",
      "1/1 [==============================] - 0s 40ms/step - loss: 0.0259\n",
      "Epoch 97/100\n",
      "1/1 [==============================] - 0s 50ms/step - loss: 0.0222\n",
      "Epoch 98/100\n",
      "1/1 [==============================] - 0s 40ms/step - loss: 0.0215\n",
      "Epoch 99/100\n",
      "1/1 [==============================] - 0s 40ms/step - loss: 0.0226\n",
      "Epoch 100/100\n",
      "1/1 [==============================] - 0s 50ms/step - loss: 0.0278\n"
     ]
    },
    {
     "data": {
      "text/plain": [
       "<tensorflow.python.keras.callbacks.History at 0x39dcada0>"
      ]
     },
     "execution_count": 14,
     "metadata": {},
     "output_type": "execute_result"
    }
   ],
   "source": [
    "# The GRU architecture\n",
    "regressorGRU = Sequential()\n",
    "# First GRU layer with Dropout regularisation\n",
    "regressorGRU.add(GRU(units=50, return_sequences=True, input_shape=(X_train.shape[1],1)))\n",
    "regressorGRU.add(Dropout(0.2))\n",
    "# Second GRU layer\n",
    "regressorGRU.add(GRU(units=50, return_sequences=True))\n",
    "regressorGRU.add(Dropout(0.2))\n",
    "# Third GRU layer\n",
    "regressorGRU.add(GRU(units=50, return_sequences=True))\n",
    "regressorGRU.add(Dropout(0.2))\n",
    "# Fourth GRU layer\n",
    "regressorGRU.add(GRU(units=50))\n",
    "regressorGRU.add(Dropout(0.2))\n",
    "# The output layer\n",
    "regressorGRU.add(Dense(units=1))\n",
    "\n",
    "# Compiling the RNN\n",
    "regressorGRU.compile(optimizer='adam',loss='mean_squared_error')\n",
    "# Fitting to the training set\n",
    "regressorGRU.fit(X_train,y_train,epochs=100,batch_size=32)"
   ]
  },
  {
   "cell_type": "code",
   "execution_count": 15,
   "metadata": {},
   "outputs": [
    {
     "data": {
      "text/plain": [
       "65"
      ]
     },
     "execution_count": 15,
     "metadata": {},
     "output_type": "execute_result"
    }
   ],
   "source": [
    "# testing the model\n",
    "dataset_total = pd.concat((dataset[\"Close\"][:'2021-02'],dataset[\"Close\"]['2021-03':]),axis=0)\n",
    "inputs = dataset_total[len(dataset_total)-len(test_set) - previous:].values\n",
    "inputs = inputs.reshape(-1,1)\n",
    "inputs  = sc.fit_transform(inputs)\n",
    "len(inputs)"
   ]
  },
  {
   "cell_type": "code",
   "execution_count": 16,
   "metadata": {},
   "outputs": [
    {
     "data": {
      "text/html": [
       "<div>\n",
       "<style scoped>\n",
       "    .dataframe tbody tr th:only-of-type {\n",
       "        vertical-align: middle;\n",
       "    }\n",
       "\n",
       "    .dataframe tbody tr th {\n",
       "        vertical-align: top;\n",
       "    }\n",
       "\n",
       "    .dataframe thead th {\n",
       "        text-align: right;\n",
       "    }\n",
       "</style>\n",
       "<table border=\"1\" class=\"dataframe\">\n",
       "  <thead>\n",
       "    <tr style=\"text-align: right;\">\n",
       "      <th></th>\n",
       "      <th>Close</th>\n",
       "    </tr>\n",
       "    <tr>\n",
       "      <th>Date</th>\n",
       "      <th></th>\n",
       "    </tr>\n",
       "  </thead>\n",
       "  <tbody>\n",
       "    <tr>\n",
       "      <th>2021-01-29</th>\n",
       "      <td>231.960007</td>\n",
       "    </tr>\n",
       "    <tr>\n",
       "      <th>2021-02-01</th>\n",
       "      <td>239.649994</td>\n",
       "    </tr>\n",
       "    <tr>\n",
       "      <th>2021-02-02</th>\n",
       "      <td>239.509995</td>\n",
       "    </tr>\n",
       "    <tr>\n",
       "      <th>2021-02-03</th>\n",
       "      <td>243.000000</td>\n",
       "    </tr>\n",
       "    <tr>\n",
       "      <th>2021-02-04</th>\n",
       "      <td>242.009995</td>\n",
       "    </tr>\n",
       "  </tbody>\n",
       "</table>\n",
       "</div>"
      ],
      "text/plain": [
       "                 Close\n",
       "Date                  \n",
       "2021-01-29  231.960007\n",
       "2021-02-01  239.649994\n",
       "2021-02-02  239.509995\n",
       "2021-02-03  243.000000\n",
       "2021-02-04  242.009995"
      ]
     },
     "execution_count": 16,
     "metadata": {},
     "output_type": "execute_result"
    }
   ],
   "source": [
    "dataset_total=dataset_total[len(dataset_total)-len(test_set) - previous:]\n",
    "dataset_total=pd.DataFrame(dataset_total)\n",
    "dataset_total[:5]"
   ]
  },
  {
   "cell_type": "code",
   "execution_count": 17,
   "metadata": {},
   "outputs": [],
   "source": [
    "# Preparing X_test and predicting the prices\n",
    "X_test = []\n",
    "for i in range(previous,len(inputs)):\n",
    "    X_test.append(inputs[i-previous:i,0])\n",
    "X_test = np.array(X_test)\n",
    "X_test = np.reshape(X_test, (X_test.shape[0],X_test.shape[1],1))\n",
    "predicted_stock_price = regressorGRU.predict(X_test)\n",
    "predicted_stock_price = sc.inverse_transform(predicted_stock_price)"
   ]
  },
  {
   "cell_type": "code",
   "execution_count": 18,
   "metadata": {},
   "outputs": [
    {
     "name": "stdout",
     "output_type": "stream",
     "text": [
      "[251.86000061] [253.57193]\n"
     ]
    },
    {
     "data": {
      "image/png": "[encoded data removed]",
      "text/plain": [
       "<Figure size 1296x360 with 1 Axes>"
      ]
     },
     "metadata": {
      "needs_background": "light"
     },
     "output_type": "display_data"
    }
   ],
   "source": [
    "#Checking \n",
    "print(test_set[-1],predicted_stock_price[-1])\n",
    "\n",
    "# Visualizing the results\n",
    "plt.figure(figsize=(18,5))\n",
    "plt.plot(test_set[:], color='red',label='Real Stock Price')\n",
    "plt.plot(predicted_stock_price[:], color='blue',label='Predicted Stock Price')\n",
    "plt.title(\"Stock Price Prediction(GRU)\")\n",
    "plt.xlabel('Time')\n",
    "plt.ylabel(\" Stock Price\")\n",
    "plt.legend()\n",
    "plt.show();"
   ]
  },
  {
   "cell_type": "code",
   "execution_count": 19,
   "metadata": {},
   "outputs": [
    {
     "name": "stdout",
     "output_type": "stream",
     "text": [
      "The root mean squared error is 6.656900142715531.\n"
     ]
    }
   ],
   "source": [
    "# Evaluating our model\n",
    "import math\n",
    "from sklearn.metrics import mean_squared_error\n",
    "rmse = math.sqrt(mean_squared_error(test_set, predicted_stock_price))\n",
    "print(\"The root mean squared error is {}.\".format(rmse))"
   ]
  },
  {
   "cell_type": "code",
   "execution_count": 24,
   "metadata": {},
   "outputs": [
    {
     "ename": "ValueError",
     "evalue": "Found input variables with inconsistent numbers of samples: [48, 35]",
     "output_type": "error",
     "traceback": [
      "\u001b[1;31m---------------------------------------------------------------------------\u001b[0m",
      "\u001b[1;31mValueError\u001b[0m                                Traceback (most recent call last)",
      "\u001b[1;32m<ipython-input-24-987947ebce13>\u001b[0m in \u001b[0;36m<module>\u001b[1;34m\u001b[0m\n\u001b[1;32m----> 1\u001b[1;33m \u001b[0mrmse1\u001b[0m \u001b[1;33m=\u001b[0m \u001b[0mmath\u001b[0m\u001b[1;33m.\u001b[0m\u001b[0msqrt\u001b[0m\u001b[1;33m(\u001b[0m\u001b[0mmean_squared_error\u001b[0m\u001b[1;33m(\u001b[0m\u001b[0mtraining_set\u001b[0m\u001b[1;33m,\u001b[0m \u001b[0mpredicted_stock_price\u001b[0m\u001b[1;33m)\u001b[0m\u001b[1;33m)\u001b[0m\u001b[1;33m\u001b[0m\u001b[1;33m\u001b[0m\u001b[0m\n\u001b[0m\u001b[0;32m      2\u001b[0m \u001b[0mprint\u001b[0m\u001b[1;33m(\u001b[0m\u001b[1;34m\"The root mean squared error is {}.\"\u001b[0m\u001b[1;33m.\u001b[0m\u001b[0mformat\u001b[0m\u001b[1;33m(\u001b[0m\u001b[0mrmse1\u001b[0m\u001b[1;33m)\u001b[0m\u001b[1;33m)\u001b[0m\u001b[1;33m\u001b[0m\u001b[1;33m\u001b[0m\u001b[0m\n",
      "\u001b[1;32mC:\\ProgramData\\Anaconda3\\lib\\site-packages\\sklearn\\metrics\\regression.py\u001b[0m in \u001b[0;36mmean_squared_error\u001b[1;34m(y_true, y_pred, sample_weight, multioutput)\u001b[0m\n\u001b[0;32m    239\u001b[0m     \"\"\"\n\u001b[0;32m    240\u001b[0m     y_type, y_true, y_pred, multioutput = _check_reg_targets(\n\u001b[1;32m--> 241\u001b[1;33m         y_true, y_pred, multioutput)\n\u001b[0m\u001b[0;32m    242\u001b[0m     \u001b[0mcheck_consistent_length\u001b[0m\u001b[1;33m(\u001b[0m\u001b[0my_true\u001b[0m\u001b[1;33m,\u001b[0m \u001b[0my_pred\u001b[0m\u001b[1;33m,\u001b[0m \u001b[0msample_weight\u001b[0m\u001b[1;33m)\u001b[0m\u001b[1;33m\u001b[0m\u001b[1;33m\u001b[0m\u001b[0m\n\u001b[0;32m    243\u001b[0m     output_errors = np.average((y_true - y_pred) ** 2, axis=0,\n",
      "\u001b[1;32mC:\\ProgramData\\Anaconda3\\lib\\site-packages\\sklearn\\metrics\\regression.py\u001b[0m in \u001b[0;36m_check_reg_targets\u001b[1;34m(y_true, y_pred, multioutput)\u001b[0m\n\u001b[0;32m     75\u001b[0m \u001b[1;33m\u001b[0m\u001b[0m\n\u001b[0;32m     76\u001b[0m     \"\"\"\n\u001b[1;32m---> 77\u001b[1;33m     \u001b[0mcheck_consistent_length\u001b[0m\u001b[1;33m(\u001b[0m\u001b[0my_true\u001b[0m\u001b[1;33m,\u001b[0m \u001b[0my_pred\u001b[0m\u001b[1;33m)\u001b[0m\u001b[1;33m\u001b[0m\u001b[1;33m\u001b[0m\u001b[0m\n\u001b[0m\u001b[0;32m     78\u001b[0m     \u001b[0my_true\u001b[0m \u001b[1;33m=\u001b[0m \u001b[0mcheck_array\u001b[0m\u001b[1;33m(\u001b[0m\u001b[0my_true\u001b[0m\u001b[1;33m,\u001b[0m \u001b[0mensure_2d\u001b[0m\u001b[1;33m=\u001b[0m\u001b[1;32mFalse\u001b[0m\u001b[1;33m)\u001b[0m\u001b[1;33m\u001b[0m\u001b[1;33m\u001b[0m\u001b[0m\n\u001b[0;32m     79\u001b[0m     \u001b[0my_pred\u001b[0m \u001b[1;33m=\u001b[0m \u001b[0mcheck_array\u001b[0m\u001b[1;33m(\u001b[0m\u001b[0my_pred\u001b[0m\u001b[1;33m,\u001b[0m \u001b[0mensure_2d\u001b[0m\u001b[1;33m=\u001b[0m\u001b[1;32mFalse\u001b[0m\u001b[1;33m)\u001b[0m\u001b[1;33m\u001b[0m\u001b[1;33m\u001b[0m\u001b[0m\n",
      "\u001b[1;32mC:\\ProgramData\\Anaconda3\\lib\\site-packages\\sklearn\\utils\\validation.py\u001b[0m in \u001b[0;36mcheck_consistent_length\u001b[1;34m(*arrays)\u001b[0m\n\u001b[0;32m    203\u001b[0m     \u001b[1;32mif\u001b[0m \u001b[0mlen\u001b[0m\u001b[1;33m(\u001b[0m\u001b[0muniques\u001b[0m\u001b[1;33m)\u001b[0m \u001b[1;33m>\u001b[0m \u001b[1;36m1\u001b[0m\u001b[1;33m:\u001b[0m\u001b[1;33m\u001b[0m\u001b[1;33m\u001b[0m\u001b[0m\n\u001b[0;32m    204\u001b[0m         raise ValueError(\"Found input variables with inconsistent numbers of\"\n\u001b[1;32m--> 205\u001b[1;33m                          \" samples: %r\" % [int(l) for l in lengths])\n\u001b[0m\u001b[0;32m    206\u001b[0m \u001b[1;33m\u001b[0m\u001b[0m\n\u001b[0;32m    207\u001b[0m \u001b[1;33m\u001b[0m\u001b[0m\n",
      "\u001b[1;31mValueError\u001b[0m: Found input variables with inconsistent numbers of samples: [48, 35]"
     ]
    }
   ],
   "source": [
    "rmse1 = math.sqrt(mean_squared_error(training_set, predicted_stock_price))\n",
    "print(\"The root mean squared error is {}.\".format(rmse1))"
   ]
  },
  {
   "cell_type": "code",
   "execution_count": 20,
   "metadata": {},
   "outputs": [
    {
     "name": "stdout",
     "output_type": "stream",
     "text": [
      "35\n",
      "35\n",
      "Previous Day Pred [253.70668]\n",
      "Next day Pred [254.00067]\n",
      "Prediction Diffrence [0.2939911]\n",
      "Actual prev Day Price [258.26000977]\n",
      "Actual next day price [260.57998657]\n",
      "Actual Diffrence [2.31997681]\n"
     ]
    },
    {
     "data": {
      "image/png": "[encoded data removed]",
      "text/plain": [
       "<Figure size 1296x360 with 1 Axes>"
      ]
     },
     "metadata": {
      "needs_background": "light"
     },
     "output_type": "display_data"
    }
   ],
   "source": [
    "print(len(test_set))\n",
    "print(len(predicted_stock_price))\n",
    "\n",
    "#Prediction Diffrence from prev day prediction to current day prediction \n",
    "prevday_pred = predicted_stock_price[25]\n",
    "currentday_pred= predicted_stock_price[26]\n",
    "\n",
    "diff =  currentday_pred - prevday_pred\n",
    "\n",
    "#Actual Diffrence from prev day Actual price  to current day Actual price\n",
    "\n",
    "_prev = test_set[25]\n",
    "_current = test_set[26]\n",
    "\n",
    "_diff = _current - _prev\n",
    "\n",
    "#printing the results\n",
    "\n",
    "print(\"Previous Day Pred\",prevday_pred)\n",
    "print(\"Next day Pred\",currentday_pred)\n",
    "print(\"Prediction Diffrence\",diff)\n",
    "\n",
    "print(\"Actual prev Day Price\",_prev)\n",
    "print(\"Actual next day price\",_current)\n",
    "print(\"Actual Diffrence\",_diff)\n",
    "\n",
    "#plt/between original price and prediction price \n",
    "plt.figure(figsize=(18,5))\n",
    "plt.plot(test_set[-190:], color='red',label='RealStock Price')\n",
    "plt.plot(predicted_stock_price[-189:], color='blue',label='Predicted Stock Price')\n",
    "plt.legend()\n",
    "plt.show()"
   ]
  },
  {
   "cell_type": "code",
   "execution_count": 21,
   "metadata": {},
   "outputs": [
    {
     "name": "stderr",
     "output_type": "stream",
     "text": [
      "C:\\ProgramData\\Anaconda3\\lib\\site-packages\\ipykernel_launcher.py:2: SettingWithCopyWarning: \n",
      "A value is trying to be set on a copy of a slice from a DataFrame.\n",
      "Try using .loc[row_indexer,col_indexer] = value instead\n",
      "\n",
      "See the caveats in the documentation: http://pandas.pydata.org/pandas-docs/stable/indexing.html#indexing-view-versus-copy\n",
      "  \n",
      "C:\\ProgramData\\Anaconda3\\lib\\site-packages\\ipykernel_launcher.py:4: SettingWithCopyWarning: \n",
      "A value is trying to be set on a copy of a slice from a DataFrame.\n",
      "Try using .loc[row_indexer,col_indexer] = value instead\n",
      "\n",
      "See the caveats in the documentation: http://pandas.pydata.org/pandas-docs/stable/indexing.html#indexing-view-versus-copy\n",
      "  after removing the cwd from sys.path.\n",
      "C:\\ProgramData\\Anaconda3\\lib\\site-packages\\ipykernel_launcher.py:5: SettingWithCopyWarning: \n",
      "A value is trying to be set on a copy of a slice from a DataFrame.\n",
      "Try using .loc[row_indexer,col_indexer] = value instead\n",
      "\n",
      "See the caveats in the documentation: http://pandas.pydata.org/pandas-docs/stable/indexing.html#indexing-view-versus-copy\n",
      "  \"\"\"\n"
     ]
    },
    {
     "data": {
      "text/html": [
       "<div>\n",
       "<style scoped>\n",
       "    .dataframe tbody tr th:only-of-type {\n",
       "        vertical-align: middle;\n",
       "    }\n",
       "\n",
       "    .dataframe tbody tr th {\n",
       "        vertical-align: top;\n",
       "    }\n",
       "\n",
       "    .dataframe thead th {\n",
       "        text-align: right;\n",
       "    }\n",
       "</style>\n",
       "<table border=\"1\" class=\"dataframe\">\n",
       "  <thead>\n",
       "    <tr style=\"text-align: right;\">\n",
       "      <th></th>\n",
       "      <th>Actaul Price</th>\n",
       "      <th>Predicted_Price</th>\n",
       "      <th>%_Change</th>\n",
       "      <th>Class</th>\n",
       "    </tr>\n",
       "    <tr>\n",
       "      <th>Date</th>\n",
       "      <th></th>\n",
       "      <th></th>\n",
       "      <th></th>\n",
       "      <th></th>\n",
       "    </tr>\n",
       "  </thead>\n",
       "  <tbody>\n",
       "    <tr>\n",
       "      <th>2021-04-27</th>\n",
       "      <td>261.970001</td>\n",
       "      <td>254.538559</td>\n",
       "      <td>0.000665</td>\n",
       "      <td>up</td>\n",
       "    </tr>\n",
       "    <tr>\n",
       "      <th>2021-04-28</th>\n",
       "      <td>254.559998</td>\n",
       "      <td>254.779175</td>\n",
       "      <td>0.000945</td>\n",
       "      <td>Down</td>\n",
       "    </tr>\n",
       "    <tr>\n",
       "      <th>2021-04-29</th>\n",
       "      <td>252.509995</td>\n",
       "      <td>254.719894</td>\n",
       "      <td>-0.000233</td>\n",
       "      <td>Down</td>\n",
       "    </tr>\n",
       "    <tr>\n",
       "      <th>2021-04-30</th>\n",
       "      <td>252.179993</td>\n",
       "      <td>254.266006</td>\n",
       "      <td>-0.001782</td>\n",
       "      <td>Down</td>\n",
       "    </tr>\n",
       "    <tr>\n",
       "      <th>2021-05-03</th>\n",
       "      <td>251.860001</td>\n",
       "      <td>253.571930</td>\n",
       "      <td>-0.002730</td>\n",
       "      <td>Down</td>\n",
       "    </tr>\n",
       "  </tbody>\n",
       "</table>\n",
       "</div>"
      ],
      "text/plain": [
       "            Actaul Price  Predicted_Price  %_Change Class\n",
       "Date                                                     \n",
       "2021-04-27    261.970001       254.538559  0.000665    up\n",
       "2021-04-28    254.559998       254.779175  0.000945  Down\n",
       "2021-04-29    252.509995       254.719894 -0.000233  Down\n",
       "2021-04-30    252.179993       254.266006 -0.001782  Down\n",
       "2021-05-03    251.860001       253.571930 -0.002730  Down"
      ]
     },
     "execution_count": 21,
     "metadata": {},
     "output_type": "execute_result"
    }
   ],
   "source": [
    "results=dataset_total.tail(35)\n",
    "results[\"Predicted_Price\"]=predicted_stock_price\n",
    "results.columns=[\"Actaul Price\",\"Predicted_Price\"]\n",
    "results[\"%_Change\"]=results.Predicted_Price.pct_change(axis=0)\n",
    "results[\"Class\"]=np.where(results[\"Predicted_Price\"].shift(-1)>results[\"Predicted_Price\"],\"up\",\"Down\")\n",
    "results.tail()"
   ]
  },
  {
   "cell_type": "code",
   "execution_count": 26,
   "metadata": {},
   "outputs": [
    {
     "data": {
      "text/plain": [
       "-0.49919069446754305"
      ]
     },
     "execution_count": 26,
     "metadata": {},
     "output_type": "execute_result"
    }
   ],
   "source": [
    "from sklearn.metrics import r2_score\n",
    "r2_score(predicted_stock_price , test_set)"
   ]
  },
  {
   "cell_type": "code",
   "execution_count": null,
   "metadata": {},
   "outputs": [],
   "source": []
  }
 ],
 "metadata": {
  "kernelspec": {
   "display_name": "Python 3",
   "language": "python",
   "name": "python3"
  },
  "language_info": {
   "codemirror_mode": {
    "name": "ipython",
    "version": 3
   },
   "file_extension": ".py",
   "mimetype": "text/x-python",
   "name": "python",
   "nbconvert_exporter": "python",
   "pygments_lexer": "ipython3",
   "version": "3.7.3"
  }
 },
 "nbformat": 4,
 "nbformat_minor": 2
}

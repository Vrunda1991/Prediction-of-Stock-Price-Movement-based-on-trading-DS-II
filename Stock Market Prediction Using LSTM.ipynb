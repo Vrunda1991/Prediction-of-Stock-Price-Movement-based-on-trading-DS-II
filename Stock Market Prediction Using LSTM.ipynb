{
 "cells": [
  {
   "cell_type": "code",
   "execution_count": 8,
   "metadata": {},
   "outputs": [],
   "source": [
    "import numpy as np\n",
    "import pandas as pd\n",
    "import matplotlib.pyplot as plt\n",
    "import seaborn as sns"
   ]
  },
  {
   "cell_type": "code",
   "execution_count": 2,
   "metadata": {},
   "outputs": [],
   "source": [
    "# Data Collection\n",
    "df = pd.read_csv('./Datasets/MSFT.csv')"
   ]
  },
  {
   "cell_type": "code",
   "execution_count": 3,
   "metadata": {},
   "outputs": [
    {
     "data": {
      "text/html": [
       "<div>\n",
       "<style scoped>\n",
       "    .dataframe tbody tr th:only-of-type {\n",
       "        vertical-align: middle;\n",
       "    }\n",
       "\n",
       "    .dataframe tbody tr th {\n",
       "        vertical-align: top;\n",
       "    }\n",
       "\n",
       "    .dataframe thead th {\n",
       "        text-align: right;\n",
       "    }\n",
       "</style>\n",
       "<table border=\"1\" class=\"dataframe\">\n",
       "  <thead>\n",
       "    <tr style=\"text-align: right;\">\n",
       "      <th></th>\n",
       "      <th>Date</th>\n",
       "      <th>Open</th>\n",
       "      <th>High</th>\n",
       "      <th>Low</th>\n",
       "      <th>Close</th>\n",
       "      <th>Adj Close</th>\n",
       "      <th>Volume</th>\n",
       "    </tr>\n",
       "  </thead>\n",
       "  <tbody>\n",
       "    <tr>\n",
       "      <th>0</th>\n",
       "      <td>1986-03-13</td>\n",
       "      <td>0.088542</td>\n",
       "      <td>0.101563</td>\n",
       "      <td>0.088542</td>\n",
       "      <td>0.097222</td>\n",
       "      <td>0.061751</td>\n",
       "      <td>1031788800</td>\n",
       "    </tr>\n",
       "    <tr>\n",
       "      <th>1</th>\n",
       "      <td>1986-03-14</td>\n",
       "      <td>0.097222</td>\n",
       "      <td>0.102431</td>\n",
       "      <td>0.097222</td>\n",
       "      <td>0.100694</td>\n",
       "      <td>0.063956</td>\n",
       "      <td>308160000</td>\n",
       "    </tr>\n",
       "    <tr>\n",
       "      <th>2</th>\n",
       "      <td>1986-03-17</td>\n",
       "      <td>0.100694</td>\n",
       "      <td>0.103299</td>\n",
       "      <td>0.100694</td>\n",
       "      <td>0.102431</td>\n",
       "      <td>0.065059</td>\n",
       "      <td>133171200</td>\n",
       "    </tr>\n",
       "    <tr>\n",
       "      <th>3</th>\n",
       "      <td>1986-03-18</td>\n",
       "      <td>0.102431</td>\n",
       "      <td>0.103299</td>\n",
       "      <td>0.098958</td>\n",
       "      <td>0.099826</td>\n",
       "      <td>0.063405</td>\n",
       "      <td>67766400</td>\n",
       "    </tr>\n",
       "    <tr>\n",
       "      <th>4</th>\n",
       "      <td>1986-03-19</td>\n",
       "      <td>0.099826</td>\n",
       "      <td>0.100694</td>\n",
       "      <td>0.097222</td>\n",
       "      <td>0.098090</td>\n",
       "      <td>0.062302</td>\n",
       "      <td>47894400</td>\n",
       "    </tr>\n",
       "  </tbody>\n",
       "</table>\n",
       "</div>"
      ],
      "text/plain": [
       "         Date      Open      High       Low     Close  Adj Close      Volume\n",
       "0  1986-03-13  0.088542  0.101563  0.088542  0.097222   0.061751  1031788800\n",
       "1  1986-03-14  0.097222  0.102431  0.097222  0.100694   0.063956   308160000\n",
       "2  1986-03-17  0.100694  0.103299  0.100694  0.102431   0.065059   133171200\n",
       "3  1986-03-18  0.102431  0.103299  0.098958  0.099826   0.063405    67766400\n",
       "4  1986-03-19  0.099826  0.100694  0.097222  0.098090   0.062302    47894400"
      ]
     },
     "execution_count": 3,
     "metadata": {},
     "output_type": "execute_result"
    }
   ],
   "source": [
    "df.head()"
   ]
  },
  {
   "cell_type": "code",
   "execution_count": 4,
   "metadata": {},
   "outputs": [],
   "source": [
    "df1=df.reset_index()['Close']"
   ]
  },
  {
   "cell_type": "code",
   "execution_count": 5,
   "metadata": {},
   "outputs": [
    {
     "data": {
      "text/plain": [
       "(8857,)"
      ]
     },
     "execution_count": 5,
     "metadata": {},
     "output_type": "execute_result"
    }
   ],
   "source": [
    "df1.shape"
   ]
  },
  {
   "cell_type": "code",
   "execution_count": 6,
   "metadata": {},
   "outputs": [
    {
     "data": {
      "text/plain": [
       "0    0.097222\n",
       "1    0.100694\n",
       "2    0.102431\n",
       "3    0.099826\n",
       "4    0.098090\n",
       "Name: Close, dtype: float64"
      ]
     },
     "execution_count": 6,
     "metadata": {},
     "output_type": "execute_result"
    }
   ],
   "source": [
    "df1.head()"
   ]
  },
  {
   "cell_type": "code",
   "execution_count": 9,
   "metadata": {},
   "outputs": [
    {
     "data": {
      "text/plain": [
       "[<matplotlib.lines.Line2D at 0x6da93c8>]"
      ]
     },
     "execution_count": 9,
     "metadata": {},
     "output_type": "execute_result"
    },
    {
     "data": {
      "image/png": "[encoded data removed]",
      "text/plain": [
       "<Figure size 432x288 with 1 Axes>"
      ]
     },
     "metadata": {
      "needs_background": "light"
     },
     "output_type": "display_data"
    }
   ],
   "source": [
    "plt.plot(df1)"
   ]
  },
  {
   "cell_type": "code",
   "execution_count": 12,
   "metadata": {},
   "outputs": [],
   "source": [
    "#LSTM is sensitive to the sca;e of the data. Thus we can use MinMaxScaler\n",
    "\n",
    "from sklearn.preprocessing import MinMaxScaler\n",
    "scaler=MinMaxScaler(feature_range=(0,1))\n",
    "df1=scaler.fit_transform(np.array(df1).reshape(-1,1))"
   ]
  },
  {
   "cell_type": "code",
   "execution_count": 13,
   "metadata": {},
   "outputs": [
    {
     "data": {
      "text/plain": [
       "(8857, 1)"
      ]
     },
     "execution_count": 13,
     "metadata": {},
     "output_type": "execute_result"
    }
   ],
   "source": [
    "df1.shape"
   ]
  },
  {
   "cell_type": "code",
   "execution_count": 16,
   "metadata": {},
   "outputs": [
    {
     "data": {
      "text/plain": [
       "array([[2.65159923e-05],\n",
       "       [3.97739884e-05],\n",
       "       [4.64067989e-05],\n",
       "       ...,\n",
       "       [9.63876521e-01],\n",
       "       [9.62616393e-01],\n",
       "       [9.61394489e-01]])"
      ]
     },
     "execution_count": 16,
     "metadata": {},
     "output_type": "execute_result"
    }
   ],
   "source": [
    "df1"
   ]
  },
  {
   "cell_type": "code",
   "execution_count": 18,
   "metadata": {},
   "outputs": [],
   "source": [
    "#Splitting dataset into train and test split\n",
    "training_size=int(len(df1)*0.65)\n",
    "test_size=len(df1)-training_size\n",
    "train_data=df1[0:training_size,:]\n",
    "test_data=df1[training_size:len(df1),:1]"
   ]
  },
  {
   "cell_type": "code",
   "execution_count": 26,
   "metadata": {},
   "outputs": [
    {
     "name": "stdout",
     "output_type": "stream",
     "text": [
      "Training Data size =  5757\n",
      "Test Data size =  3100\n"
     ]
    }
   ],
   "source": [
    "print(\"Training Data size = \", training_size)\n",
    "print(\"Test Data size = \", test_size)\n",
    "#print(len(train_data))\n",
    "#print(len(test_data))"
   ]
  },
  {
   "cell_type": "code",
   "execution_count": 27,
   "metadata": {},
   "outputs": [
    {
     "data": {
      "text/plain": [
       "array([[2.65159923e-05],\n",
       "       [3.97739884e-05],\n",
       "       [4.64067989e-05],\n",
       "       ...,\n",
       "       [7.80118529e-02],\n",
       "       [7.89283033e-02],\n",
       "       [7.41551197e-02]])"
      ]
     },
     "execution_count": 27,
     "metadata": {},
     "output_type": "execute_result"
    }
   ],
   "source": [
    "train_data"
   ]
  },
  {
   "cell_type": "code",
   "execution_count": 28,
   "metadata": {},
   "outputs": [
    {
     "data": {
      "text/plain": [
       "array([[0.07648444],\n",
       "       [0.07419331],\n",
       "       [0.07400237],\n",
       "       ...,\n",
       "       [0.96387652],\n",
       "       [0.96261639],\n",
       "       [0.96139449]])"
      ]
     },
     "execution_count": 28,
     "metadata": {},
     "output_type": "execute_result"
    }
   ],
   "source": [
    "test_data"
   ]
  },
  {
   "cell_type": "code",
   "execution_count": 39,
   "metadata": {},
   "outputs": [],
   "source": [
    "#Convert an array of values into a dataset Matrix\n",
    "\n",
    "def create_dataset(dataset,time_step=1):\n",
    "    dataX, dataY = [], []\n",
    "    for i in range(len(dataset)-time_step-1):\n",
    "        a = dataset[i:(i+time_step), 0]\n",
    "        dataX.append(a)\n",
    "        dataY.append(dataset[i + time_step, 0])\n",
    "    return np.array(dataX), np.array(dataY)"
   ]
  },
  {
   "cell_type": "code",
   "execution_count": 40,
   "metadata": {},
   "outputs": [],
   "source": [
    "#Reshape into X=t, t+1, t+2....\n",
    "time_step = 100\n",
    "X_train, y_train = create_dataset(train_data, time_step)\n",
    "X_test, y_test = create_dataset(test_data, time_step)"
   ]
  },
  {
   "cell_type": "code",
   "execution_count": 42,
   "metadata": {},
   "outputs": [
    {
     "name": "stdout",
     "output_type": "stream",
     "text": [
      "(5656, 100)\n",
      "[[2.65159923e-05 3.97739884e-05 4.64067989e-05 ... 3.31449904e-05\n",
      "  2.98304913e-05 2.98304913e-05]\n",
      " [3.97739884e-05 4.64067989e-05 3.64594894e-05 ... 2.98304913e-05\n",
      "  2.98304913e-05 2.65159923e-05]\n",
      " [4.64067989e-05 3.64594894e-05 2.98304913e-05 ... 2.98304913e-05\n",
      "  2.65159923e-05 2.32014933e-05]\n",
      " ...\n",
      " [1.06192726e-01 1.07032811e-01 1.06230912e-01 ... 7.20549146e-02\n",
      "  7.35059665e-02 7.38878226e-02]\n",
      " [1.07032811e-01 1.06230912e-01 1.06230912e-01 ... 7.35059665e-02\n",
      "  7.38878226e-02 7.72863270e-02]\n",
      " [1.06230912e-01 1.06230912e-01 1.05849056e-01 ... 7.38878226e-02\n",
      "  7.72863270e-02 7.80118529e-02]]\n"
     ]
    }
   ],
   "source": [
    "print(X_train.shape)\n",
    "print(X_train)"
   ]
  },
  {
   "cell_type": "code",
   "execution_count": 43,
   "metadata": {},
   "outputs": [
    {
     "name": "stdout",
     "output_type": "stream",
     "text": [
      "(2999, 100)\n",
      "[[0.07648444 0.07419331 0.07400237 ... 0.07942471 0.08137217 0.08137217]\n",
      " [0.07419331 0.07400237 0.07533887 ... 0.08137217 0.08137217 0.08263229]\n",
      " [0.07400237 0.07533887 0.07255133 ... 0.08137217 0.08263229 0.08301415]\n",
      " ...\n",
      " [0.82205569 0.81774077 0.81819898 ... 0.99686876 0.99839616 1.        ]\n",
      " [0.81774077 0.81819898 0.81793165 ... 0.99839616 1.         0.97170455]\n",
      " [0.81819898 0.81793165 0.82449956 ... 1.         0.97170455 0.96387652]]\n"
     ]
    }
   ],
   "source": [
    "print(X_test.shape)\n",
    "print(X_test)"
   ]
  },
  {
   "cell_type": "code",
   "execution_count": 44,
   "metadata": {},
   "outputs": [
    {
     "name": "stdout",
     "output_type": "stream",
     "text": [
      "(5656,)\n",
      "[2.65159923e-05 2.32014933e-05 1.98869942e-05 ... 7.72863270e-02\n",
      " 7.80118529e-02 7.89283033e-02]\n"
     ]
    }
   ],
   "source": [
    "print(y_train.shape)\n",
    "print(y_train)"
   ]
  },
  {
   "cell_type": "code",
   "execution_count": 46,
   "metadata": {},
   "outputs": [
    {
     "name": "stdout",
     "output_type": "stream",
     "text": [
      "(2999,)\n",
      "[0.08263229 0.08301415 0.08419789 ... 0.97170455 0.96387652 0.96261639]\n"
     ]
    }
   ],
   "source": [
    "print(y_test.shape)\n",
    "print(y_test)"
   ]
  },
  {
   "cell_type": "code",
   "execution_count": 86,
   "metadata": {},
   "outputs": [],
   "source": [
    "#Reshape the input into 3-Dimention as it will be taken as input for LSTM Model\n",
    "\n",
    "X_train = X_train.reshape(X_train.shape[0], X_train.shape[1], 1)\n",
    "X_test = X_test.reshape(X_test.shape[0], X_test.shape[1], 1)"
   ]
  },
  {
   "cell_type": "code",
   "execution_count": 48,
   "metadata": {},
   "outputs": [],
   "source": [
    "#Create Stack LSTM model\n",
    "\n",
    "from tensorflow.keras.models import Sequential\n",
    "from tensorflow.keras.layers import Dense\n",
    "from tensorflow.keras.layers import LSTM"
   ]
  },
  {
   "cell_type": "code",
   "execution_count": 49,
   "metadata": {},
   "outputs": [],
   "source": [
    "model=Sequential()\n",
    "model.add(LSTM(50,return_sequences=True,input_shape=(100,1)))\n",
    "model.add(LSTM(50,return_sequences=True))\n",
    "model.add(LSTM(50))\n",
    "model.add(Dense(1))\n",
    "model.compile(loss='mean_squared_error', optimizer='adam')"
   ]
  },
  {
   "cell_type": "code",
   "execution_count": 50,
   "metadata": {},
   "outputs": [
    {
     "name": "stdout",
     "output_type": "stream",
     "text": [
      "Model: \"sequential\"\n",
      "_________________________________________________________________\n",
      "Layer (type)                 Output Shape              Param #   \n",
      "=================================================================\n",
      "lstm (LSTM)                  (None, 100, 50)           10400     \n",
      "_________________________________________________________________\n",
      "lstm_1 (LSTM)                (None, 100, 50)           20200     \n",
      "_________________________________________________________________\n",
      "lstm_2 (LSTM)                (None, 50)                20200     \n",
      "_________________________________________________________________\n",
      "dense (Dense)                (None, 1)                 51        \n",
      "=================================================================\n",
      "Total params: 50,851\n",
      "Trainable params: 50,851\n",
      "Non-trainable params: 0\n",
      "_________________________________________________________________\n"
     ]
    }
   ],
   "source": [
    "model.summary()"
   ]
  },
  {
   "cell_type": "code",
   "execution_count": 51,
   "metadata": {},
   "outputs": [
    {
     "name": "stdout",
     "output_type": "stream",
     "text": [
      "Epoch 1/100\n",
      "89/89 [==============================] - 23s 162ms/step - loss: 8.7375e-04 - val_loss: 0.0014\n",
      "Epoch 2/100\n",
      "89/89 [==============================] - 13s 141ms/step - loss: 3.1620e-05 - val_loss: 0.0022\n",
      "Epoch 3/100\n",
      "89/89 [==============================] - 12s 139ms/step - loss: 3.0816e-05 - val_loss: 0.0020\n",
      "Epoch 4/100\n",
      "89/89 [==============================] - 12s 139ms/step - loss: 3.2522e-05 - val_loss: 0.0019\n",
      "Epoch 5/100\n",
      "89/89 [==============================] - 13s 142ms/step - loss: 2.4350e-05 - val_loss: 0.0025\n",
      "Epoch 6/100\n",
      "89/89 [==============================] - 12s 139ms/step - loss: 2.5938e-05 - val_loss: 0.0020\n",
      "Epoch 7/100\n",
      "89/89 [==============================] - 13s 142ms/step - loss: 2.0331e-05 - val_loss: 0.0016\n",
      "Epoch 8/100\n",
      "89/89 [==============================] - 12s 140ms/step - loss: 1.9538e-05 - val_loss: 0.0026\n",
      "Epoch 9/100\n",
      "89/89 [==============================] - 12s 138ms/step - loss: 2.3881e-05 - val_loss: 0.0018\n",
      "Epoch 10/100\n",
      "89/89 [==============================] - 13s 143ms/step - loss: 1.6623e-05 - val_loss: 0.0014\n",
      "Epoch 11/100\n",
      "89/89 [==============================] - 13s 150ms/step - loss: 1.6362e-05 - val_loss: 7.8641e-04\n",
      "Epoch 12/100\n",
      "89/89 [==============================] - 18s 199ms/step - loss: 1.7341e-05 - val_loss: 6.4985e-04\n",
      "Epoch 13/100\n",
      "89/89 [==============================] - 15s 164ms/step - loss: 1.7865e-05 - val_loss: 8.6580e-04\n",
      "Epoch 14/100\n",
      "89/89 [==============================] - 16s 177ms/step - loss: 1.4884e-05 - val_loss: 0.0015\n",
      "Epoch 15/100\n",
      "89/89 [==============================] - 14s 158ms/step - loss: 1.4361e-05 - val_loss: 0.0010\n",
      "Epoch 16/100\n",
      "89/89 [==============================] - 14s 160ms/step - loss: 1.2748e-05 - val_loss: 8.2495e-04\n",
      "Epoch 17/100\n",
      "89/89 [==============================] - 14s 156ms/step - loss: 1.5471e-05 - val_loss: 6.2348e-04\n",
      "Epoch 18/100\n",
      "89/89 [==============================] - 15s 174ms/step - loss: 1.2772e-05 - val_loss: 4.6444e-04\n",
      "Epoch 19/100\n",
      "89/89 [==============================] - 15s 167ms/step - loss: 1.3185e-05 - val_loss: 5.4607e-04\n",
      "Epoch 20/100\n",
      "89/89 [==============================] - 12s 140ms/step - loss: 1.3410e-05 - val_loss: 6.2088e-04\n",
      "Epoch 21/100\n",
      "89/89 [==============================] - 12s 136ms/step - loss: 1.5490e-05 - val_loss: 5.4475e-04\n",
      "Epoch 22/100\n",
      "89/89 [==============================] - 12s 137ms/step - loss: 1.4958e-05 - val_loss: 8.3530e-04\n",
      "Epoch 23/100\n",
      "89/89 [==============================] - 12s 135ms/step - loss: 1.3690e-05 - val_loss: 6.8477e-04\n",
      "Epoch 24/100\n",
      "89/89 [==============================] - 12s 135ms/step - loss: 1.1642e-05 - val_loss: 0.0011\n",
      "Epoch 25/100\n",
      "89/89 [==============================] - 12s 137ms/step - loss: 1.1122e-05 - val_loss: 4.4407e-04\n",
      "Epoch 26/100\n",
      "89/89 [==============================] - 13s 144ms/step - loss: 1.1179e-05 - val_loss: 6.5049e-04\n",
      "Epoch 27/100\n",
      "89/89 [==============================] - 14s 158ms/step - loss: 1.3052e-05 - val_loss: 5.3874e-04\n",
      "Epoch 28/100\n",
      "89/89 [==============================] - 14s 157ms/step - loss: 1.0271e-05 - val_loss: 6.4565e-04\n",
      "Epoch 29/100\n",
      "89/89 [==============================] - 14s 163ms/step - loss: 9.7646e-06 - val_loss: 2.1608e-04\n",
      "Epoch 30/100\n",
      "89/89 [==============================] - 15s 165ms/step - loss: 1.2774e-05 - val_loss: 4.7484e-04\n",
      "Epoch 31/100\n",
      "89/89 [==============================] - 14s 159ms/step - loss: 9.1583e-06 - val_loss: 3.3829e-04\n",
      "Epoch 32/100\n",
      "89/89 [==============================] - 14s 156ms/step - loss: 9.3074e-06 - val_loss: 3.5481e-04\n",
      "Epoch 33/100\n",
      "89/89 [==============================] - 15s 164ms/step - loss: 8.1415e-06 - val_loss: 3.8512e-04\n",
      "Epoch 34/100\n",
      "89/89 [==============================] - 14s 158ms/step - loss: 8.6188e-06 - val_loss: 3.1174e-04\n",
      "Epoch 35/100\n",
      "89/89 [==============================] - 14s 157ms/step - loss: 8.2405e-06 - val_loss: 2.6330e-04\n",
      "Epoch 36/100\n",
      "89/89 [==============================] - 14s 160ms/step - loss: 8.9108e-06 - val_loss: 1.7991e-04\n",
      "Epoch 37/100\n",
      "89/89 [==============================] - 14s 162ms/step - loss: 7.7013e-06 - val_loss: 3.5275e-04\n",
      "Epoch 38/100\n",
      "89/89 [==============================] - 15s 173ms/step - loss: 7.3457e-06 - val_loss: 2.9151e-04\n",
      "Epoch 39/100\n",
      "89/89 [==============================] - 14s 159ms/step - loss: 1.0429e-05 - val_loss: 4.0365e-04\n",
      "Epoch 40/100\n",
      "89/89 [==============================] - 14s 161ms/step - loss: 7.4102e-06 - val_loss: 4.4635e-04\n",
      "Epoch 41/100\n",
      "89/89 [==============================] - 15s 168ms/step - loss: 6.6648e-06 - val_loss: 2.9921e-04\n",
      "Epoch 42/100\n",
      "89/89 [==============================] - 16s 179ms/step - loss: 6.5228e-06 - val_loss: 3.9097e-04\n",
      "Epoch 43/100\n",
      "89/89 [==============================] - 16s 180ms/step - loss: 6.9445e-06 - val_loss: 5.1508e-04\n",
      "Epoch 44/100\n",
      "89/89 [==============================] - 14s 160ms/step - loss: 7.6478e-06 - val_loss: 4.0524e-04\n",
      "Epoch 45/100\n",
      "89/89 [==============================] - 14s 158ms/step - loss: 6.1546e-06 - val_loss: 2.1804e-04\n",
      "Epoch 46/100\n",
      "89/89 [==============================] - 14s 162ms/step - loss: 5.9834e-06 - val_loss: 1.6656e-04\n",
      "Epoch 47/100\n",
      "89/89 [==============================] - 14s 159ms/step - loss: 6.1026e-06 - val_loss: 3.3459e-04\n",
      "Epoch 48/100\n",
      "89/89 [==============================] - 14s 161ms/step - loss: 6.6360e-06 - val_loss: 5.1348e-04\n",
      "Epoch 49/100\n",
      "89/89 [==============================] - 14s 163ms/step - loss: 7.4107e-06 - val_loss: 2.5193e-04\n",
      "Epoch 50/100\n",
      "89/89 [==============================] - 15s 174ms/step - loss: 6.1954e-06 - val_loss: 3.5210e-04\n",
      "Epoch 51/100\n",
      "89/89 [==============================] - 15s 167ms/step - loss: 5.0828e-06 - val_loss: 5.2304e-04\n",
      "Epoch 52/100\n",
      "89/89 [==============================] - 15s 170ms/step - loss: 6.3139e-06 - val_loss: 4.3722e-04\n",
      "Epoch 53/100\n",
      "89/89 [==============================] - 16s 179ms/step - loss: 5.5608e-06 - val_loss: 9.7687e-05\n",
      "Epoch 54/100\n",
      "89/89 [==============================] - 16s 180ms/step - loss: 5.5504e-06 - val_loss: 4.4925e-04\n",
      "Epoch 55/100\n",
      "89/89 [==============================] - 16s 179ms/step - loss: 5.3650e-06 - val_loss: 3.1296e-04\n",
      "Epoch 56/100\n",
      "89/89 [==============================] - 14s 162ms/step - loss: 6.6262e-06 - val_loss: 2.8278e-04\n",
      "Epoch 57/100\n",
      "89/89 [==============================] - 14s 158ms/step - loss: 5.3894e-06 - val_loss: 3.3271e-04\n",
      "Epoch 58/100\n",
      "89/89 [==============================] - 15s 173ms/step - loss: 4.5263e-06 - val_loss: 2.9236e-04\n",
      "Epoch 59/100\n",
      "89/89 [==============================] - 15s 164ms/step - loss: 4.6550e-06 - val_loss: 4.1330e-04\n",
      "Epoch 60/100\n",
      "89/89 [==============================] - 15s 168ms/step - loss: 4.9432e-06 - val_loss: 4.1570e-04\n",
      "Epoch 61/100\n",
      "89/89 [==============================] - 14s 159ms/step - loss: 5.6288e-06 - val_loss: 2.9917e-04\n",
      "Epoch 62/100\n",
      "89/89 [==============================] - 15s 173ms/step - loss: 5.4925e-06 - val_loss: 3.6146e-04\n",
      "Epoch 63/100\n",
      "89/89 [==============================] - 15s 164ms/step - loss: 5.7581e-06 - val_loss: 4.8737e-04\n",
      "Epoch 64/100\n",
      "89/89 [==============================] - 14s 158ms/step - loss: 5.5264e-06 - val_loss: 3.3671e-04\n",
      "Epoch 65/100\n",
      "89/89 [==============================] - 14s 155ms/step - loss: 5.6555e-06 - val_loss: 2.3582e-04\n",
      "Epoch 66/100\n",
      "89/89 [==============================] - 14s 157ms/step - loss: 5.7065e-06 - val_loss: 3.4544e-04\n",
      "Epoch 67/100\n",
      "89/89 [==============================] - 14s 155ms/step - loss: 4.3916e-06 - val_loss: 1.4022e-04\n",
      "Epoch 68/100\n",
      "89/89 [==============================] - 15s 170ms/step - loss: 7.2224e-06 - val_loss: 3.0867e-04\n",
      "Epoch 69/100\n",
      "89/89 [==============================] - 15s 170ms/step - loss: 4.5904e-06 - val_loss: 2.6329e-04\n",
      "Epoch 70/100\n",
      "89/89 [==============================] - 15s 166ms/step - loss: 4.7423e-06 - val_loss: 3.6096e-04\n",
      "Epoch 71/100\n",
      "89/89 [==============================] - 14s 156ms/step - loss: 4.3646e-06 - val_loss: 2.5051e-04\n",
      "Epoch 72/100\n",
      "89/89 [==============================] - 14s 160ms/step - loss: 4.3654e-06 - val_loss: 3.7529e-04\n",
      "Epoch 73/100\n",
      "89/89 [==============================] - 15s 168ms/step - loss: 4.2195e-06 - val_loss: 2.6090e-04\n",
      "Epoch 74/100\n",
      "89/89 [==============================] - 14s 160ms/step - loss: 5.8142e-06 - val_loss: 1.7413e-04\n",
      "Epoch 75/100\n",
      "89/89 [==============================] - 14s 158ms/step - loss: 6.0412e-06 - val_loss: 2.0452e-04\n",
      "Epoch 76/100\n",
      "89/89 [==============================] - 14s 156ms/step - loss: 4.5175e-06 - val_loss: 1.9719e-04\n",
      "Epoch 77/100\n",
      "89/89 [==============================] - 14s 159ms/step - loss: 4.3374e-06 - val_loss: 2.1887e-04\n",
      "Epoch 78/100\n",
      "89/89 [==============================] - 14s 157ms/step - loss: 4.3513e-06 - val_loss: 3.3073e-04\n",
      "Epoch 79/100\n",
      "89/89 [==============================] - 16s 175ms/step - loss: 4.0240e-06 - val_loss: 1.9736e-04\n",
      "Epoch 80/100\n",
      "89/89 [==============================] - 15s 163ms/step - loss: 4.9439e-06 - val_loss: 2.2683e-04\n",
      "Epoch 81/100\n",
      "89/89 [==============================] - 14s 159ms/step - loss: 4.4751e-06 - val_loss: 1.5213e-04\n",
      "Epoch 82/100\n",
      "89/89 [==============================] - 14s 159ms/step - loss: 5.1175e-06 - val_loss: 2.3038e-04\n",
      "Epoch 83/100\n",
      "89/89 [==============================] - 17s 192ms/step - loss: 4.3868e-06 - val_loss: 2.3344e-04\n",
      "Epoch 84/100\n",
      "89/89 [==============================] - 16s 175ms/step - loss: 5.1691e-06 - val_loss: 2.9321e-04\n",
      "Epoch 85/100\n",
      "89/89 [==============================] - 15s 164ms/step - loss: 4.7428e-06 - val_loss: 4.0359e-04\n",
      "Epoch 86/100\n",
      "89/89 [==============================] - 14s 159ms/step - loss: 4.5375e-06 - val_loss: 1.4438e-04\n",
      "Epoch 87/100\n",
      "89/89 [==============================] - 15s 172ms/step - loss: 5.8652e-06 - val_loss: 2.1135e-04\n",
      "Epoch 88/100\n",
      "89/89 [==============================] - 16s 178ms/step - loss: 4.9107e-06 - val_loss: 2.3118e-04\n",
      "Epoch 89/100\n",
      "89/89 [==============================] - 15s 172ms/step - loss: 5.0064e-06 - val_loss: 4.0944e-04\n",
      "Epoch 90/100\n",
      "89/89 [==============================] - 14s 162ms/step - loss: 4.2562e-06 - val_loss: 4.5276e-04\n",
      "Epoch 91/100\n",
      "89/89 [==============================] - 14s 163ms/step - loss: 4.6777e-06 - val_loss: 3.1999e-04\n",
      "Epoch 92/100\n",
      "89/89 [==============================] - 14s 159ms/step - loss: 5.6023e-06 - val_loss: 2.4087e-04\n",
      "Epoch 93/100\n",
      "89/89 [==============================] - 14s 160ms/step - loss: 4.4334e-06 - val_loss: 3.3829e-04\n",
      "Epoch 94/100\n",
      "89/89 [==============================] - 15s 170ms/step - loss: 5.5266e-06 - val_loss: 3.5327e-04\n",
      "Epoch 95/100\n",
      "89/89 [==============================] - 16s 176ms/step - loss: 4.8832e-06 - val_loss: 2.0921e-04\n",
      "Epoch 96/100\n",
      "89/89 [==============================] - 15s 171ms/step - loss: 4.6929e-06 - val_loss: 3.7458e-04\n",
      "Epoch 97/100\n",
      "89/89 [==============================] - 14s 163ms/step - loss: 5.8071e-06 - val_loss: 2.6825e-04\n",
      "Epoch 98/100\n",
      "89/89 [==============================] - 14s 156ms/step - loss: 4.4285e-06 - val_loss: 2.9611e-04\n",
      "Epoch 99/100\n",
      "89/89 [==============================] - 14s 159ms/step - loss: 4.3665e-06 - val_loss: 3.1727e-04\n",
      "Epoch 100/100\n",
      "89/89 [==============================] - 14s 158ms/step - loss: 4.6489e-06 - val_loss: 1.9198e-04\n"
     ]
    },
    {
     "data": {
      "text/plain": [
       "<tensorflow.python.keras.callbacks.History at 0x39d401d0>"
      ]
     },
     "execution_count": 51,
     "metadata": {},
     "output_type": "execute_result"
    }
   ],
   "source": [
    "model.fit(X_train, y_train, validation_data=(X_test,y_test), epochs=100, batch_size=64, verbose=1)"
   ]
  },
  {
   "cell_type": "code",
   "execution_count": 105,
   "metadata": {},
   "outputs": [],
   "source": [
    "# Lets do the prediction and check the performance matrix\n",
    "\n",
    "train_predict=model.predict(X_train)\n",
    "test_predict=model.predict(X_test)"
   ]
  },
  {
   "cell_type": "code",
   "execution_count": 53,
   "metadata": {},
   "outputs": [],
   "source": [
    "# Transform the data into original form\n",
    "\n",
    "train_predict=scaler.inverse_transform(train_predict)\n",
    "test_predict=scaler.inverse_transform(test_predict)"
   ]
  },
  {
   "cell_type": "code",
   "execution_count": 55,
   "metadata": {},
   "outputs": [
    {
     "data": {
      "text/plain": [
       "21.917532134485093"
      ]
     },
     "execution_count": 55,
     "metadata": {},
     "output_type": "execute_result"
    }
   ],
   "source": [
    "# Calculate RMSE performance matrics\n",
    "import math\n",
    "from sklearn.metrics import mean_squared_error\n",
    "math.sqrt(mean_squared_error(y_train, train_predict))"
   ]
  },
  {
   "cell_type": "code",
   "execution_count": 57,
   "metadata": {},
   "outputs": [
    {
     "data": {
      "text/plain": [
       "89.14800693241602"
      ]
     },
     "execution_count": 57,
     "metadata": {},
     "output_type": "execute_result"
    }
   ],
   "source": [
    "# Test Data RSME\n",
    "math.sqrt(mean_squared_error(y_test, test_predict))"
   ]
  },
  {
   "cell_type": "code",
   "execution_count": 63,
   "metadata": {},
   "outputs": [
    {
     "data": {
      "image/png": "[encoded data removed]",
      "text/plain": [
       "<Figure size 432x288 with 1 Axes>"
      ]
     },
     "metadata": {
      "needs_background": "light"
     },
     "output_type": "display_data"
    }
   ],
   "source": [
    "# Plotting\n",
    "\n",
    "#Shift train prediction for plotting\n",
    "look_back=100\n",
    "trainPredictPlot=np.empty_like(df1)\n",
    "trainPredictPlot[:, :] = np.nan\n",
    "trainPredictPlot[look_back:len(train_predict)+look_back, :]=train_predict\n",
    "\n",
    "#shift test prediction for plotting \n",
    "\n",
    "testPredictPlot=np.empty_like(df1)\n",
    "testPredictPlot[:, :] = np.nan\n",
    "testPredictPlot[len(train_predict)+(look_back*2)+1: len(df1)-1, :]=test_predict\n",
    "\n",
    "#Plot baseline and predictions\n",
    "plt.plot(scaler.inverse_transform(df1))\n",
    "plt.plot(trainPredictPlot)\n",
    "plt.plot(testPredictPlot)\n",
    "plt.show()"
   ]
  },
  {
   "cell_type": "code",
   "execution_count": 106,
   "metadata": {},
   "outputs": [
    {
     "data": {
      "text/plain": [
       "0.9985492888310743"
      ]
     },
     "execution_count": 106,
     "metadata": {},
     "output_type": "execute_result"
    }
   ],
   "source": [
    "from sklearn.metrics import r2_score\n",
    "r2_score( y_train , train_predict)"
   ]
  },
  {
   "cell_type": "code",
   "execution_count": 107,
   "metadata": {},
   "outputs": [
    {
     "data": {
      "text/plain": [
       "0.9937657721503342"
      ]
     },
     "execution_count": 107,
     "metadata": {},
     "output_type": "execute_result"
    }
   ],
   "source": [
    "from sklearn.metrics import r2_score\n",
    "r2_score( y_test , test_predict)"
   ]
  },
  {
   "cell_type": "markdown",
   "metadata": {},
   "source": [
    "# DataFrame.csv"
   ]
  },
  {
   "cell_type": "code",
   "execution_count": 65,
   "metadata": {},
   "outputs": [],
   "source": [
    "# Data Collection\n",
    "df2 = pd.read_csv('./Datasets/DataFrame.csv')"
   ]
  },
  {
   "cell_type": "code",
   "execution_count": 66,
   "metadata": {},
   "outputs": [
    {
     "data": {
      "text/html": [
       "<div>\n",
       "<style scoped>\n",
       "    .dataframe tbody tr th:only-of-type {\n",
       "        vertical-align: middle;\n",
       "    }\n",
       "\n",
       "    .dataframe tbody tr th {\n",
       "        vertical-align: top;\n",
       "    }\n",
       "\n",
       "    .dataframe thead th {\n",
       "        text-align: right;\n",
       "    }\n",
       "</style>\n",
       "<table border=\"1\" class=\"dataframe\">\n",
       "  <thead>\n",
       "    <tr style=\"text-align: right;\">\n",
       "      <th></th>\n",
       "      <th>Type</th>\n",
       "      <th>Date</th>\n",
       "      <th>Time</th>\n",
       "      <th>open</th>\n",
       "      <th>high</th>\n",
       "      <th>low</th>\n",
       "      <th>close</th>\n",
       "      <th>Unnamed: 7</th>\n",
       "    </tr>\n",
       "  </thead>\n",
       "  <tbody>\n",
       "    <tr>\n",
       "      <th>0</th>\n",
       "      <td>NIFTY</td>\n",
       "      <td>20210101</td>\n",
       "      <td>09:16</td>\n",
       "      <td>13997.90</td>\n",
       "      <td>14020.85</td>\n",
       "      <td>13991.35</td>\n",
       "      <td>14013.15</td>\n",
       "      <td>NaN</td>\n",
       "    </tr>\n",
       "    <tr>\n",
       "      <th>1</th>\n",
       "      <td>NIFTY</td>\n",
       "      <td>20210101</td>\n",
       "      <td>09:17</td>\n",
       "      <td>14014.85</td>\n",
       "      <td>14018.55</td>\n",
       "      <td>14008.15</td>\n",
       "      <td>14009.05</td>\n",
       "      <td>NaN</td>\n",
       "    </tr>\n",
       "    <tr>\n",
       "      <th>2</th>\n",
       "      <td>NIFTY</td>\n",
       "      <td>20210101</td>\n",
       "      <td>09:18</td>\n",
       "      <td>14008.05</td>\n",
       "      <td>14013.10</td>\n",
       "      <td>14005.05</td>\n",
       "      <td>14012.70</td>\n",
       "      <td>NaN</td>\n",
       "    </tr>\n",
       "    <tr>\n",
       "      <th>3</th>\n",
       "      <td>NIFTY</td>\n",
       "      <td>20210101</td>\n",
       "      <td>09:19</td>\n",
       "      <td>14013.65</td>\n",
       "      <td>14019.10</td>\n",
       "      <td>14013.65</td>\n",
       "      <td>14016.20</td>\n",
       "      <td>NaN</td>\n",
       "    </tr>\n",
       "    <tr>\n",
       "      <th>4</th>\n",
       "      <td>NIFTY</td>\n",
       "      <td>20210101</td>\n",
       "      <td>09:20</td>\n",
       "      <td>14015.45</td>\n",
       "      <td>14017.80</td>\n",
       "      <td>14011.95</td>\n",
       "      <td>14015.45</td>\n",
       "      <td>NaN</td>\n",
       "    </tr>\n",
       "  </tbody>\n",
       "</table>\n",
       "</div>"
      ],
      "text/plain": [
       "    Type      Date   Time      open      high       low     close  Unnamed: 7\n",
       "0  NIFTY  20210101  09:16  13997.90  14020.85  13991.35  14013.15         NaN\n",
       "1  NIFTY  20210101  09:17  14014.85  14018.55  14008.15  14009.05         NaN\n",
       "2  NIFTY  20210101  09:18  14008.05  14013.10  14005.05  14012.70         NaN\n",
       "3  NIFTY  20210101  09:19  14013.65  14019.10  14013.65  14016.20         NaN\n",
       "4  NIFTY  20210101  09:20  14015.45  14017.80  14011.95  14015.45         NaN"
      ]
     },
     "execution_count": 66,
     "metadata": {},
     "output_type": "execute_result"
    }
   ],
   "source": [
    "df2.head()"
   ]
  },
  {
   "cell_type": "code",
   "execution_count": 68,
   "metadata": {},
   "outputs": [],
   "source": [
    "df3=df2.reset_index()['close']"
   ]
  },
  {
   "cell_type": "code",
   "execution_count": 69,
   "metadata": {},
   "outputs": [
    {
     "data": {
      "text/plain": [
       "(22805,)"
      ]
     },
     "execution_count": 69,
     "metadata": {},
     "output_type": "execute_result"
    }
   ],
   "source": [
    "df3.shape"
   ]
  },
  {
   "cell_type": "code",
   "execution_count": 70,
   "metadata": {},
   "outputs": [
    {
     "data": {
      "text/plain": [
       "0    14013.15\n",
       "1    14009.05\n",
       "2    14012.70\n",
       "3    14016.20\n",
       "4    14015.45\n",
       "Name: close, dtype: float64"
      ]
     },
     "execution_count": 70,
     "metadata": {},
     "output_type": "execute_result"
    }
   ],
   "source": [
    "df3.head()"
   ]
  },
  {
   "cell_type": "code",
   "execution_count": 72,
   "metadata": {},
   "outputs": [
    {
     "data": {
      "text/plain": [
       "[<matplotlib.lines.Line2D at 0x4362d0f0>]"
      ]
     },
     "execution_count": 72,
     "metadata": {},
     "output_type": "execute_result"
    },
    {
     "data": {
      "image/png": "[encoded data removed]",
      "text/plain": [
       "<Figure size 432x288 with 1 Axes>"
      ]
     },
     "metadata": {
      "needs_background": "light"
     },
     "output_type": "display_data"
    }
   ],
   "source": [
    "plt.plot(df3)"
   ]
  },
  {
   "cell_type": "code",
   "execution_count": 73,
   "metadata": {},
   "outputs": [],
   "source": [
    "#LSTM is sensitive to the sca;e of the data. Thus we can use MinMaxScaler\n",
    "\n",
    "from sklearn.preprocessing import MinMaxScaler\n",
    "scaler=MinMaxScaler(feature_range=(0,1))\n",
    "df3=scaler.fit_transform(np.array(df3).reshape(-1,1))"
   ]
  },
  {
   "cell_type": "code",
   "execution_count": 74,
   "metadata": {},
   "outputs": [
    {
     "data": {
      "text/plain": [
       "(22805, 1)"
      ]
     },
     "execution_count": 74,
     "metadata": {},
     "output_type": "execute_result"
    }
   ],
   "source": [
    "df3.shape"
   ]
  },
  {
   "cell_type": "code",
   "execution_count": 75,
   "metadata": {},
   "outputs": [
    {
     "data": {
      "text/plain": [
       "array([[0.22455401],\n",
       "       [0.22231039],\n",
       "       [0.22430776],\n",
       "       ...,\n",
       "       [0.59565503],\n",
       "       [0.59661267],\n",
       "       [0.59532669]])"
      ]
     },
     "execution_count": 75,
     "metadata": {},
     "output_type": "execute_result"
    }
   ],
   "source": [
    "df3"
   ]
  },
  {
   "cell_type": "code",
   "execution_count": 77,
   "metadata": {},
   "outputs": [],
   "source": [
    "#Splitting dataset into train and test split\n",
    "training_size1=int(len(df3)*0.65)\n",
    "test_size1=len(df3)-training_size\n",
    "train_data1=df3[0:training_size,:]\n",
    "test_data1=df3[training_size:len(df3),:1]"
   ]
  },
  {
   "cell_type": "code",
   "execution_count": 78,
   "metadata": {},
   "outputs": [
    {
     "name": "stdout",
     "output_type": "stream",
     "text": [
      "Training Data size =  14823\n",
      "Test Data size =  7982\n"
     ]
    }
   ],
   "source": [
    "print(\"Training Data size = \", training_size1)\n",
    "print(\"Test Data size = \", test_size1)\n",
    "#print(len(train_data))\n",
    "#print(len(test_data))"
   ]
  },
  {
   "cell_type": "code",
   "execution_count": 80,
   "metadata": {},
   "outputs": [
    {
     "data": {
      "text/plain": [
       "array([[0.22455401],\n",
       "       [0.22231039],\n",
       "       [0.22430776],\n",
       "       ...,\n",
       "       [0.5821112 ],\n",
       "       [0.58287731],\n",
       "       [0.58755609]])"
      ]
     },
     "execution_count": 80,
     "metadata": {},
     "output_type": "execute_result"
    }
   ],
   "source": [
    "train_data1"
   ]
  },
  {
   "cell_type": "code",
   "execution_count": 81,
   "metadata": {},
   "outputs": [
    {
     "data": {
      "text/plain": [
       "array([[0.59042902],\n",
       "       [0.58917041],\n",
       "       [0.59204334],\n",
       "       ...,\n",
       "       [0.59565503],\n",
       "       [0.59661267],\n",
       "       [0.59532669]])"
      ]
     },
     "execution_count": 81,
     "metadata": {},
     "output_type": "execute_result"
    }
   ],
   "source": [
    "test_data1"
   ]
  },
  {
   "cell_type": "code",
   "execution_count": 82,
   "metadata": {},
   "outputs": [],
   "source": [
    "#Convert an array of values into a dataset Matrix\n",
    "\n",
    "def create_dataset(dataset,time_step=1):\n",
    "    dataX, dataY = [], []\n",
    "    for i in range(len(dataset)-time_step-1):\n",
    "        a = dataset[i:(i+time_step), 0]\n",
    "        dataX.append(a)\n",
    "        dataY.append(dataset[i + time_step, 0])\n",
    "    return np.array(dataX), np.array(dataY)"
   ]
  },
  {
   "cell_type": "code",
   "execution_count": 88,
   "metadata": {},
   "outputs": [],
   "source": [
    "#Reshape into X=t, t+1, t+2....\n",
    "time_step = 100\n",
    "X_train, y_train = create_dataset(train_data1, time_step)\n",
    "X_test, y_test = create_dataset(test_data1, time_step)"
   ]
  },
  {
   "cell_type": "code",
   "execution_count": 89,
   "metadata": {},
   "outputs": [
    {
     "name": "stdout",
     "output_type": "stream",
     "text": [
      "(14722, 100)\n",
      "[[0.22455401 0.22231039 0.22430776 ... 0.23465032 0.23470505 0.23399365]\n",
      " [0.22231039 0.22430776 0.22622305 ... 0.23470505 0.23399365 0.23470505]\n",
      " [0.22430776 0.22622305 0.22581263 ... 0.23399365 0.23470505 0.23407574]\n",
      " ...\n",
      " [0.55365547 0.55584437 0.5457207  ... 0.5787184  0.58241217 0.58446427]\n",
      " [0.55584437 0.5457207  0.5488946  ... 0.58241217 0.58446427 0.58331509]\n",
      " [0.5457207  0.5488946  0.54935975 ... 0.58446427 0.58331509 0.5821112 ]]\n"
     ]
    }
   ],
   "source": [
    "print(X_train.shape)\n",
    "print(X_train)"
   ]
  },
  {
   "cell_type": "code",
   "execution_count": 90,
   "metadata": {},
   "outputs": [
    {
     "name": "stdout",
     "output_type": "stream",
     "text": [
      "(7881, 100)\n",
      "[[0.59042902 0.58917041 0.59204334 ... 0.62230491 0.62183977 0.6210463 ]\n",
      " [0.58917041 0.59204334 0.58752873 ... 0.62183977 0.6210463  0.61929517]\n",
      " [0.59204334 0.58752873 0.5890336  ... 0.6210463  0.61929517 0.62255117]\n",
      " ...\n",
      " [0.60928095 0.60974609 0.60728357 ... 0.59371238 0.59365766 0.59527197]\n",
      " [0.60974609 0.60728357 0.60840538 ... 0.59365766 0.59527197 0.59456058]\n",
      " [0.60728357 0.60840538 0.60985553 ... 0.59527197 0.59456058 0.59565503]]\n"
     ]
    }
   ],
   "source": [
    "print(X_test.shape)\n",
    "print(X_test)"
   ]
  },
  {
   "cell_type": "code",
   "execution_count": 91,
   "metadata": {},
   "outputs": [
    {
     "name": "stdout",
     "output_type": "stream",
     "text": [
      "(14722,)\n",
      "[0.23470505 0.23407574 0.23506074 ... 0.58331509 0.5821112  0.58287731]\n"
     ]
    }
   ],
   "source": [
    "print(y_train.shape)\n",
    "print(y_train)"
   ]
  },
  {
   "cell_type": "code",
   "execution_count": 92,
   "metadata": {},
   "outputs": [
    {
     "name": "stdout",
     "output_type": "stream",
     "text": [
      "(7881,)\n",
      "[0.61929517 0.62255117 0.61866586 ... 0.59456058 0.59565503 0.59661267]\n"
     ]
    }
   ],
   "source": [
    "print(y_test.shape)\n",
    "print(y_test)"
   ]
  },
  {
   "cell_type": "code",
   "execution_count": 93,
   "metadata": {},
   "outputs": [],
   "source": [
    "#Reshape the input into 3-Dimention as it will be taken as input for LSTM Model\n",
    "\n",
    "X_train = X_train.reshape(X_train.shape[0], X_train.shape[1], 1)\n",
    "X_test = X_test.reshape(X_test.shape[0], X_test.shape[1], 1)"
   ]
  },
  {
   "cell_type": "code",
   "execution_count": 94,
   "metadata": {},
   "outputs": [],
   "source": [
    "#Create Stack LSTM model\n",
    "\n",
    "from tensorflow.keras.models import Sequential\n",
    "from tensorflow.keras.layers import Dense\n",
    "from tensorflow.keras.layers import LSTM"
   ]
  },
  {
   "cell_type": "code",
   "execution_count": 95,
   "metadata": {},
   "outputs": [],
   "source": [
    "model=Sequential()\n",
    "model.add(LSTM(50,return_sequences=True,input_shape=(100,1)))\n",
    "model.add(LSTM(50,return_sequences=True))\n",
    "model.add(LSTM(50))\n",
    "model.add(Dense(1))\n",
    "model.compile(loss='mean_squared_error', optimizer='adam')"
   ]
  },
  {
   "cell_type": "code",
   "execution_count": 96,
   "metadata": {},
   "outputs": [
    {
     "name": "stdout",
     "output_type": "stream",
     "text": [
      "Model: \"sequential_1\"\n",
      "_________________________________________________________________\n",
      "Layer (type)                 Output Shape              Param #   \n",
      "=================================================================\n",
      "lstm_3 (LSTM)                (None, 100, 50)           10400     \n",
      "_________________________________________________________________\n",
      "lstm_4 (LSTM)                (None, 100, 50)           20200     \n",
      "_________________________________________________________________\n",
      "lstm_5 (LSTM)                (None, 50)                20200     \n",
      "_________________________________________________________________\n",
      "dense_1 (Dense)              (None, 1)                 51        \n",
      "=================================================================\n",
      "Total params: 50,851\n",
      "Trainable params: 50,851\n",
      "Non-trainable params: 0\n",
      "_________________________________________________________________\n"
     ]
    }
   ],
   "source": [
    "model.summary()"
   ]
  },
  {
   "cell_type": "code",
   "execution_count": 97,
   "metadata": {},
   "outputs": [
    {
     "name": "stdout",
     "output_type": "stream",
     "text": [
      "Epoch 1/100\n",
      "231/231 [==============================] - 62s 211ms/step - loss: 0.0301 - val_loss: 2.2259e-04\n",
      "Epoch 2/100\n",
      "231/231 [==============================] - 38s 164ms/step - loss: 1.9144e-04 - val_loss: 2.2170e-04\n",
      "Epoch 3/100\n",
      "231/231 [==============================] - 35s 153ms/step - loss: 1.8274e-04 - val_loss: 2.1780e-04\n",
      "Epoch 4/100\n",
      "231/231 [==============================] - 35s 153ms/step - loss: 1.9655e-04 - val_loss: 2.0846e-04\n",
      "Epoch 5/100\n",
      "231/231 [==============================] - 35s 152ms/step - loss: 1.7582e-04 - val_loss: 5.2833e-04\n",
      "Epoch 6/100\n",
      "231/231 [==============================] - 42s 180ms/step - loss: 1.9680e-04 - val_loss: 3.5830e-04\n",
      "Epoch 7/100\n",
      "231/231 [==============================] - 37s 158ms/step - loss: 1.6608e-04 - val_loss: 3.6092e-04\n",
      "Epoch 8/100\n",
      "231/231 [==============================] - 38s 163ms/step - loss: 1.6682e-04 - val_loss: 8.6692e-04\n",
      "Epoch 9/100\n",
      "231/231 [==============================] - 36s 157ms/step - loss: 1.8681e-04 - val_loss: 1.5226e-04\n",
      "Epoch 10/100\n",
      "231/231 [==============================] - 35s 150ms/step - loss: 1.3181e-04 - val_loss: 1.3580e-04\n",
      "Epoch 11/100\n",
      "231/231 [==============================] - 34s 149ms/step - loss: 1.2621e-04 - val_loss: 3.0392e-04\n",
      "Epoch 12/100\n",
      "231/231 [==============================] - 34s 145ms/step - loss: 1.3885e-04 - val_loss: 6.8958e-04\n",
      "Epoch 13/100\n",
      "231/231 [==============================] - 38s 166ms/step - loss: 1.8345e-04 - val_loss: 1.6811e-04\n",
      "Epoch 14/100\n",
      "231/231 [==============================] - 39s 169ms/step - loss: 1.1982e-04 - val_loss: 9.7690e-05\n",
      "Epoch 15/100\n",
      "231/231 [==============================] - 37s 160ms/step - loss: 1.0364e-04 - val_loss: 1.1658e-04\n",
      "Epoch 16/100\n",
      "231/231 [==============================] - 37s 159ms/step - loss: 1.0468e-04 - val_loss: 1.0584e-04\n",
      "Epoch 17/100\n",
      "231/231 [==============================] - 38s 165ms/step - loss: 9.1184e-05 - val_loss: 8.0652e-05\n",
      "Epoch 18/100\n",
      "231/231 [==============================] - 36s 155ms/step - loss: 1.0419e-04 - val_loss: 9.5316e-05\n",
      "Epoch 19/100\n",
      "231/231 [==============================] - 35s 150ms/step - loss: 7.7932e-05 - val_loss: 2.9271e-04\n",
      "Epoch 20/100\n",
      "231/231 [==============================] - 34s 149ms/step - loss: 8.7376e-05 - val_loss: 9.8116e-05\n",
      "Epoch 21/100\n",
      "231/231 [==============================] - 34s 149ms/step - loss: 7.4051e-05 - val_loss: 2.9301e-04\n",
      "Epoch 22/100\n",
      "231/231 [==============================] - 35s 150ms/step - loss: 7.1619e-05 - val_loss: 2.3850e-04\n",
      "Epoch 23/100\n",
      "231/231 [==============================] - 35s 150ms/step - loss: 6.5245e-05 - val_loss: 5.4387e-05\n",
      "Epoch 24/100\n",
      "231/231 [==============================] - 40s 174ms/step - loss: 5.5735e-05 - val_loss: 7.6027e-05\n",
      "Epoch 25/100\n",
      "231/231 [==============================] - 44s 190ms/step - loss: 5.8363e-05 - val_loss: 7.4048e-05\n",
      "Epoch 26/100\n",
      "231/231 [==============================] - 35s 151ms/step - loss: 4.9436e-05 - val_loss: 1.1411e-04\n",
      "Epoch 27/100\n",
      "231/231 [==============================] - 37s 162ms/step - loss: 4.7607e-05 - val_loss: 9.8694e-05\n",
      "Epoch 28/100\n",
      "231/231 [==============================] - 38s 164ms/step - loss: 4.7783e-05 - val_loss: 3.7015e-05\n",
      "Epoch 29/100\n",
      "231/231 [==============================] - 36s 155ms/step - loss: 5.1415e-05 - val_loss: 8.7726e-05\n",
      "Epoch 30/100\n",
      "231/231 [==============================] - 35s 153ms/step - loss: 4.1153e-05 - val_loss: 1.4898e-04\n",
      "Epoch 31/100\n",
      "231/231 [==============================] - 36s 157ms/step - loss: 4.5926e-05 - val_loss: 8.9006e-05\n",
      "Epoch 32/100\n",
      "231/231 [==============================] - 36s 157ms/step - loss: 4.0746e-05 - val_loss: 7.3399e-05\n",
      "Epoch 33/100\n",
      "231/231 [==============================] - 44s 191ms/step - loss: 4.2974e-05 - val_loss: 3.1153e-05\n",
      "Epoch 34/100\n",
      "231/231 [==============================] - 35s 153ms/step - loss: 3.9085e-05 - val_loss: 3.7216e-04\n",
      "Epoch 35/100\n",
      "231/231 [==============================] - 34s 148ms/step - loss: 5.5786e-05 - val_loss: 2.8488e-05\n",
      "Epoch 36/100\n",
      "231/231 [==============================] - 36s 154ms/step - loss: 3.0849e-05 - val_loss: 5.9718e-05\n",
      "Epoch 37/100\n",
      "231/231 [==============================] - 42s 181ms/step - loss: 3.1205e-05 - val_loss: 2.6950e-05\n",
      "Epoch 38/100\n",
      "231/231 [==============================] - 41s 179ms/step - loss: 3.1913e-05 - val_loss: 3.2893e-05\n",
      "Epoch 39/100\n",
      "231/231 [==============================] - 38s 167ms/step - loss: 3.6648e-05 - val_loss: 2.7415e-05\n",
      "Epoch 40/100\n",
      "231/231 [==============================] - 39s 170ms/step - loss: 3.0668e-05 - val_loss: 3.9960e-05\n",
      "Epoch 41/100\n",
      "231/231 [==============================] - 35s 150ms/step - loss: 3.2614e-05 - val_loss: 4.3857e-05\n",
      "Epoch 42/100\n",
      "231/231 [==============================] - 35s 151ms/step - loss: 2.9670e-05 - val_loss: 2.6333e-05\n",
      "Epoch 43/100\n",
      "231/231 [==============================] - 34s 149ms/step - loss: 3.0089e-05 - val_loss: 6.8792e-05\n",
      "Epoch 44/100\n",
      "231/231 [==============================] - 34s 148ms/step - loss: 2.7923e-05 - val_loss: 1.0238e-04\n",
      "Epoch 45/100\n",
      "231/231 [==============================] - 34s 149ms/step - loss: 3.7427e-05 - val_loss: 3.2426e-05\n",
      "Epoch 46/100\n",
      "231/231 [==============================] - 38s 166ms/step - loss: 3.3061e-05 - val_loss: 1.3330e-04\n",
      "Epoch 47/100\n",
      "231/231 [==============================] - 39s 167ms/step - loss: 4.2435e-05 - val_loss: 6.7782e-05\n",
      "Epoch 48/100\n",
      "231/231 [==============================] - 36s 157ms/step - loss: 2.9803e-05 - val_loss: 6.2357e-05\n",
      "Epoch 49/100\n",
      "231/231 [==============================] - 36s 158ms/step - loss: 3.2258e-05 - val_loss: 4.7875e-05\n",
      "Epoch 50/100\n",
      "231/231 [==============================] - 42s 182ms/step - loss: 2.8227e-05 - val_loss: 5.4476e-05\n",
      "Epoch 51/100\n",
      "231/231 [==============================] - 38s 165ms/step - loss: 3.5050e-05 - val_loss: 3.5939e-05\n",
      "Epoch 52/100\n",
      "231/231 [==============================] - 40s 171ms/step - loss: 2.8647e-05 - val_loss: 1.3224e-04\n",
      "Epoch 53/100\n",
      "231/231 [==============================] - 37s 162ms/step - loss: 4.9122e-05 - val_loss: 4.4751e-05\n",
      "Epoch 54/100\n",
      "231/231 [==============================] - 37s 162ms/step - loss: 3.1467e-05 - val_loss: 5.3269e-05\n",
      "Epoch 55/100\n",
      "231/231 [==============================] - 38s 166ms/step - loss: 3.9636e-05 - val_loss: 3.6079e-05\n",
      "Epoch 56/100\n",
      "231/231 [==============================] - 35s 152ms/step - loss: 2.6014e-05 - val_loss: 4.7075e-05\n",
      "Epoch 57/100\n",
      "231/231 [==============================] - 36s 154ms/step - loss: 3.8037e-05 - val_loss: 2.6494e-05\n",
      "Epoch 58/100\n",
      "231/231 [==============================] - 36s 154ms/step - loss: 2.4025e-05 - val_loss: 5.9522e-05\n",
      "Epoch 59/100\n",
      "231/231 [==============================] - 39s 167ms/step - loss: 3.3323e-05 - val_loss: 5.2512e-05\n",
      "Epoch 60/100\n",
      "231/231 [==============================] - 39s 168ms/step - loss: 3.5556e-05 - val_loss: 4.2696e-05\n",
      "Epoch 61/100\n",
      "231/231 [==============================] - 39s 169ms/step - loss: 2.8085e-05 - val_loss: 3.8483e-05\n",
      "Epoch 62/100\n",
      "231/231 [==============================] - 40s 172ms/step - loss: 2.5910e-05 - val_loss: 3.3272e-05\n",
      "Epoch 63/100\n",
      "231/231 [==============================] - 41s 176ms/step - loss: 3.0914e-05 - val_loss: 6.7341e-05\n",
      "Epoch 64/100\n",
      "231/231 [==============================] - 42s 183ms/step - loss: 2.9531e-05 - val_loss: 3.4274e-05\n",
      "Epoch 65/100\n",
      "231/231 [==============================] - 41s 177ms/step - loss: 2.9504e-05 - val_loss: 1.2113e-04\n",
      "Epoch 66/100\n",
      "231/231 [==============================] - 40s 174ms/step - loss: 3.2300e-05 - val_loss: 8.4977e-05\n",
      "Epoch 67/100\n",
      "231/231 [==============================] - 35s 151ms/step - loss: 3.1782e-05 - val_loss: 2.9626e-05\n",
      "Epoch 68/100\n",
      "231/231 [==============================] - 34s 149ms/step - loss: 2.7901e-05 - val_loss: 3.6898e-05\n",
      "Epoch 69/100\n",
      "231/231 [==============================] - 35s 151ms/step - loss: 2.8734e-05 - val_loss: 4.4831e-05\n",
      "Epoch 70/100\n",
      "231/231 [==============================] - 69482s 302s/step - loss: 3.0395e-05 - val_loss: 2.6279e-05\n",
      "Epoch 71/100\n",
      "231/231 [==============================] - 35s 152ms/step - loss: 2.5927e-05 - val_loss: 3.7226e-05\n",
      "Epoch 72/100\n",
      "231/231 [==============================] - 38s 163ms/step - loss: 2.7624e-05 - val_loss: 3.1807e-04\n",
      "Epoch 73/100\n",
      "231/231 [==============================] - 36s 158ms/step - loss: 4.4772e-05 - val_loss: 7.6950e-05\n",
      "Epoch 74/100\n",
      "231/231 [==============================] - 37s 160ms/step - loss: 2.7353e-05 - val_loss: 3.0169e-05\n",
      "Epoch 75/100\n",
      "231/231 [==============================] - 36s 157ms/step - loss: 2.7179e-05 - val_loss: 8.1007e-05\n",
      "Epoch 76/100\n",
      "231/231 [==============================] - 36s 156ms/step - loss: 3.0249e-05 - val_loss: 8.5915e-05\n",
      "Epoch 77/100\n",
      "231/231 [==============================] - 39s 170ms/step - loss: 3.2345e-05 - val_loss: 2.9000e-05\n",
      "Epoch 78/100\n",
      "231/231 [==============================] - 39s 169ms/step - loss: 2.4195e-05 - val_loss: 9.5170e-05\n",
      "Epoch 79/100\n",
      "231/231 [==============================] - 39s 167ms/step - loss: 2.8949e-05 - val_loss: 2.3685e-04\n",
      "Epoch 80/100\n",
      "231/231 [==============================] - 38s 163ms/step - loss: 4.5367e-05 - val_loss: 2.7391e-05\n",
      "Epoch 81/100\n",
      "231/231 [==============================] - 38s 163ms/step - loss: 2.6306e-05 - val_loss: 2.8090e-05\n",
      "Epoch 82/100\n",
      "231/231 [==============================] - 38s 164ms/step - loss: 2.3288e-05 - val_loss: 4.0405e-05\n",
      "Epoch 83/100\n",
      "231/231 [==============================] - 38s 166ms/step - loss: 2.5309e-05 - val_loss: 3.0742e-05\n",
      "Epoch 84/100\n",
      "231/231 [==============================] - 53s 230ms/step - loss: 2.7131e-05 - val_loss: 2.8929e-05\n",
      "Epoch 85/100\n",
      "231/231 [==============================] - 38s 164ms/step - loss: 2.2569e-05 - val_loss: 2.8625e-05\n",
      "Epoch 86/100\n",
      "231/231 [==============================] - 38s 163ms/step - loss: 2.6204e-05 - val_loss: 6.4496e-05\n",
      "Epoch 87/100\n",
      "231/231 [==============================] - 37s 161ms/step - loss: 2.6150e-05 - val_loss: 3.2803e-05\n",
      "Epoch 88/100\n",
      "231/231 [==============================] - 37s 159ms/step - loss: 2.4966e-05 - val_loss: 3.0453e-05\n",
      "Epoch 89/100\n",
      "231/231 [==============================] - 37s 160ms/step - loss: 2.6182e-05 - val_loss: 2.6077e-05\n",
      "Epoch 90/100\n",
      "231/231 [==============================] - 38s 164ms/step - loss: 2.5192e-05 - val_loss: 3.0234e-05\n",
      "Epoch 91/100\n",
      "231/231 [==============================] - 44s 192ms/step - loss: 2.4268e-05 - val_loss: 3.0918e-05\n",
      "Epoch 92/100\n",
      "231/231 [==============================] - 42s 182ms/step - loss: 2.4553e-05 - val_loss: 2.7350e-05\n",
      "Epoch 93/100\n",
      "231/231 [==============================] - 42s 180ms/step - loss: 2.3173e-05 - val_loss: 2.8914e-05\n",
      "Epoch 94/100\n",
      "231/231 [==============================] - 41s 176ms/step - loss: 2.8058e-05 - val_loss: 2.7047e-05\n",
      "Epoch 95/100\n",
      "231/231 [==============================] - 42s 183ms/step - loss: 3.6589e-05 - val_loss: 6.1551e-05\n",
      "Epoch 96/100\n",
      "231/231 [==============================] - 40s 174ms/step - loss: 2.4912e-05 - val_loss: 2.7721e-05\n",
      "Epoch 97/100\n",
      "231/231 [==============================] - 38s 163ms/step - loss: 2.3757e-05 - val_loss: 6.4284e-05\n",
      "Epoch 98/100\n",
      "231/231 [==============================] - 44s 190ms/step - loss: 2.5574e-05 - val_loss: 5.9829e-05\n",
      "Epoch 99/100\n",
      "231/231 [==============================] - 42s 182ms/step - loss: 2.5025e-05 - val_loss: 4.5632e-05\n",
      "Epoch 100/100\n",
      "231/231 [==============================] - 36s 158ms/step - loss: 3.1941e-05 - val_loss: 9.4764e-05\n"
     ]
    },
    {
     "data": {
      "text/plain": [
       "<tensorflow.python.keras.callbacks.History at 0x333d10b8>"
      ]
     },
     "execution_count": 97,
     "metadata": {},
     "output_type": "execute_result"
    }
   ],
   "source": [
    "model.fit(X_train, y_train, validation_data=(X_test,y_test), epochs=100, batch_size=64, verbose=1)"
   ]
  },
  {
   "cell_type": "code",
   "execution_count": 98,
   "metadata": {},
   "outputs": [],
   "source": [
    "# Lets do the prediction and check the performance matrix\n",
    "\n",
    "train_predict=model.predict(X_train)\n",
    "test_predict=model.predict(X_test)"
   ]
  },
  {
   "cell_type": "code",
   "execution_count": 99,
   "metadata": {},
   "outputs": [],
   "source": [
    "# Transform the data into original form\n",
    "\n",
    "train_predict=scaler.inverse_transform(train_predict)\n",
    "test_predict=scaler.inverse_transform(test_predict)"
   ]
  },
  {
   "cell_type": "code",
   "execution_count": 100,
   "metadata": {},
   "outputs": [
    {
     "data": {
      "text/plain": [
       "14654.163455804508"
      ]
     },
     "execution_count": 100,
     "metadata": {},
     "output_type": "execute_result"
    }
   ],
   "source": [
    "# Calculate RMSE performance matrics\n",
    "import math\n",
    "from sklearn.metrics import mean_squared_error\n",
    "math.sqrt(mean_squared_error(y_train, train_predict))"
   ]
  },
  {
   "cell_type": "code",
   "execution_count": 101,
   "metadata": {},
   "outputs": [
    {
     "data": {
      "text/plain": [
       "14858.374144822863"
      ]
     },
     "execution_count": 101,
     "metadata": {},
     "output_type": "execute_result"
    }
   ],
   "source": [
    "# Test Data RSME\n",
    "math.sqrt(mean_squared_error(y_test, test_predict))"
   ]
  },
  {
   "cell_type": "code",
   "execution_count": 103,
   "metadata": {},
   "outputs": [
    {
     "data": {
      "image/png": "[encoded data removed]",
      "text/plain": [
       "<Figure size 432x288 with 1 Axes>"
      ]
     },
     "metadata": {
      "needs_background": "light"
     },
     "output_type": "display_data"
    }
   ],
   "source": [
    "# Plotting\n",
    "\n",
    "#Shift train prediction for plotting\n",
    "look_back=100\n",
    "trainPredictPlot=np.empty_like(df3)\n",
    "trainPredictPlot[:, :] = np.nan\n",
    "trainPredictPlot[look_back:len(train_predict)+look_back, :]=train_predict\n",
    "\n",
    "#shift test prediction for plotting \n",
    "\n",
    "testPredictPlot=np.empty_like(df3)\n",
    "testPredictPlot[:, :] = np.nan\n",
    "testPredictPlot[len(train_predict)+(look_back*2)+1: len(df3)-1, :]=test_predict\n",
    "\n",
    "#Plot baseline and predictions\n",
    "plt.plot(scaler.inverse_transform(df3))\n",
    "plt.plot(trainPredictPlot)\n",
    "plt.plot(testPredictPlot)\n",
    "plt.show()"
   ]
  },
  {
   "cell_type": "code",
   "execution_count": null,
   "metadata": {},
   "outputs": [],
   "source": []
  },
  {
   "cell_type": "code",
   "execution_count": null,
   "metadata": {},
   "outputs": [],
   "source": []
  },
  {
   "cell_type": "code",
   "execution_count": null,
   "metadata": {},
   "outputs": [],
   "source": []
  },
  {
   "cell_type": "code",
   "execution_count": null,
   "metadata": {},
   "outputs": [],
   "source": []
  }
 ],
 "metadata": {
  "kernelspec": {
   "display_name": "Python 3",
   "language": "python",
   "name": "python3"
  },
  "language_info": {
   "codemirror_mode": {
    "name": "ipython",
    "version": 3
   },
   "file_extension": ".py",
   "mimetype": "text/x-python",
   "name": "python",
   "nbconvert_exporter": "python",
   "pygments_lexer": "ipython3",
   "version": "3.7.3"
  }
 },
 "nbformat": 4,
 "nbformat_minor": 2
}
